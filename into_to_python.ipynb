{
  "nbformat": 4,
  "nbformat_minor": 0,
  "metadata": {
    "colab": {
      "provenance": [],
      "authorship_tag": "ABX9TyPYi4aFr3lLoNDImfsEc9Up",
      "include_colab_link": true
    },
    "kernelspec": {
      "name": "python3",
      "display_name": "Python 3"
    },
    "language_info": {
      "name": "python"
    }
  },
  "cells": [
    {
      "cell_type": "markdown",
      "metadata": {
        "id": "view-in-github",
        "colab_type": "text"
      },
      "source": [
        "<a href=\"https://colab.research.google.com/github/sachin2003226/intro_to_python_springboard/blob/main/into_to_python.ipynb\" target=\"_parent\"><img src=\"https://colab.research.google.com/assets/colab-badge.svg\" alt=\"Open In Colab\"/></a>"
      ]
    },
    {
      "cell_type": "code",
      "execution_count": null,
      "metadata": {
        "colab": {
          "base_uri": "https://localhost:8080/"
        },
        "id": "qVMpbHjN4qJ-",
        "outputId": "bf27efc8-250c-45da-b2b9-b4dbb21aac13"
      },
      "outputs": [
        {
          "output_type": "stream",
          "name": "stdout",
          "text": [
            "65 <class 'int'>\n",
            "A <class 'str'>\n"
          ]
        }
      ],
      "source": [
        "num=65\n",
        "print(num,type(num))\n",
        "num=\"A\"\n",
        "print(num,type(num))\n"
      ]
    },
    {
      "cell_type": "code",
      "source": [
        "input_var=input(\"please enter the value\")\n",
        "print(input_var)\n"
      ],
      "metadata": {
        "colab": {
          "base_uri": "https://localhost:8080/"
        },
        "id": "8C73RNLP7O38",
        "outputId": "3cf9af80-e2de-47ff-927d-e25ba2ecd9b5"
      },
      "execution_count": null,
      "outputs": [
        {
          "output_type": "stream",
          "name": "stdout",
          "text": [
            "please enter the valuehello\n",
            "hello\n"
          ]
        }
      ]
    },
    {
      "cell_type": "code",
      "source": [
        "a=\"infy\"\n",
        "b=20.127\n",
        "c=10\n",
        "print(a,b,c)\n",
        "print(a,b,c,sep=\":\")\n",
        "print(a,b,c,end=\" \")\n",
        "print(a,b,c)\n",
        "print(\"b=%0.2f\" %b)\n",
        "print(\"c=%8d\" %c)\n",
        "print(\"c=%-8d\" %c)\n",
        "\n",
        "\n"
      ],
      "metadata": {
        "colab": {
          "base_uri": "https://localhost:8080/"
        },
        "id": "2Dwwtkh07Yfj",
        "outputId": "40c38e6d-504a-4fbe-d86e-3c19dfe282ee"
      },
      "execution_count": null,
      "outputs": [
        {
          "output_type": "stream",
          "name": "stdout",
          "text": [
            "infy 20.127 10\n",
            "infy:20.127:10\n",
            "infy 20.127 10 infy 20.127 10\n",
            "b=20.13\n",
            "c=      10\n",
            "c=10      \n"
          ]
        }
      ]
    },
    {
      "cell_type": "code",
      "source": [
        "num1 = 5\n",
        "num2 = 6\n",
        "num1%num2"
      ],
      "metadata": {
        "colab": {
          "base_uri": "https://localhost:8080/"
        },
        "id": "RipYlaBI-epy",
        "outputId": "c1f16c74-08eb-45ff-b2d7-24783a24b77e"
      },
      "execution_count": null,
      "outputs": [
        {
          "output_type": "execute_result",
          "data": {
            "text/plain": [
              "5"
            ]
          },
          "metadata": {},
          "execution_count": 4
        }
      ]
    },
    {
      "cell_type": "code",
      "source": [
        "1==1 and (not(1==1 or 1==0))\n"
      ],
      "metadata": {
        "colab": {
          "base_uri": "https://localhost:8080/"
        },
        "id": "K3wqBqIK-vif",
        "outputId": "d34b3855-eaba-4dc2-f8d5-86273f6f1de9"
      },
      "execution_count": null,
      "outputs": [
        {
          "output_type": "execute_result",
          "data": {
            "text/plain": [
              "False"
            ]
          },
          "metadata": {},
          "execution_count": 5
        }
      ]
    },
    {
      "cell_type": "code",
      "source": [
        "num1 = 50\n",
        "num2 = 2\n",
        "num3 = 3\n",
        "num4 = 8\n",
        "result = num1/num4-num3*num2+num4\n",
        "print(result)"
      ],
      "metadata": {
        "colab": {
          "base_uri": "https://localhost:8080/"
        },
        "id": "bra8kepr_H6B",
        "outputId": "d3b95def-1cdf-4070-a60c-909d7c20b952"
      },
      "execution_count": null,
      "outputs": [
        {
          "output_type": "stream",
          "name": "stdout",
          "text": [
            "8.25\n"
          ]
        }
      ]
    },
    {
      "cell_type": "code",
      "source": [
        "a=10\n",
        "if(a>0):\n",
        "     print(\"positive integer\")\n"
      ],
      "metadata": {
        "colab": {
          "base_uri": "https://localhost:8080/"
        },
        "id": "HEycBxmO_y_a",
        "outputId": "50bf5a10-70e3-4bf8-c5f8-03c95ab0383d"
      },
      "execution_count": null,
      "outputs": [
        {
          "output_type": "stream",
          "name": "stdout",
          "text": [
            "positive integer\n"
          ]
        }
      ]
    },
    {
      "cell_type": "code",
      "source": [
        "a=-10\n",
        "if(a>0):\n",
        "\tprint(\"positive integer\")\n",
        "else:\n",
        "\tprint(\"Not a positive integer\")\n"
      ],
      "metadata": {
        "colab": {
          "base_uri": "https://localhost:8080/"
        },
        "id": "PxLZinN9_3AX",
        "outputId": "9637e0d5-5439-4347-83a2-aa71f83d9b91"
      },
      "execution_count": null,
      "outputs": [
        {
          "output_type": "stream",
          "name": "stdout",
          "text": [
            "Not a positive integer\n"
          ]
        }
      ]
    },
    {
      "cell_type": "code",
      "source": [
        "num1=10\n",
        "num2=20\n",
        "num3=30\n",
        "if(num1>num2):\n",
        "    if(num1>num3):\n",
        "        print(\"num1 is greater\")\n",
        "    else:\n",
        "        print(\"num3 is greater\")\n",
        "elif(num2>num3):\n",
        "    print(\"num2 is greater\")\n",
        "else:\n",
        "    print(\"num3 is greater\")\n",
        "\n"
      ],
      "metadata": {
        "colab": {
          "base_uri": "https://localhost:8080/"
        },
        "id": "rHUW9pkEADPe",
        "outputId": "95f5c496-97c8-4801-a590-3bc0af8ca9f9"
      },
      "execution_count": null,
      "outputs": [
        {
          "output_type": "stream",
          "name": "stdout",
          "text": [
            "num3 is greater\n"
          ]
        }
      ]
    },
    {
      "cell_type": "code",
      "source": [
        "def check_number(num):\n",
        "    if num % 3 == 0 and num % 5 == 0:\n",
        "        print(\"Zoom\")\n",
        "    elif num % 3 == 0:\n",
        "        print(\"Zip\")\n",
        "    elif num % 5 == 0:\n",
        "        print(\"Zap\")\n",
        "    else:\n",
        "        print(\"Invalid\")\n",
        "\n",
        "# Example usage:\n",
        "number = int(input(\"Enter a number: \"))\n",
        "check_number(number)\n"
      ],
      "metadata": {
        "colab": {
          "base_uri": "https://localhost:8080/"
        },
        "id": "WlznPcOyAQFs",
        "outputId": "a073dd41-5cf1-424c-b990-600802bd0581"
      },
      "execution_count": null,
      "outputs": [
        {
          "output_type": "stream",
          "name": "stdout",
          "text": [
            "Enter a number: 5\n",
            "Zap\n"
          ]
        }
      ]
    },
    {
      "cell_type": "code",
      "source": [
        "num=5\n",
        "count=1\n",
        "while count <= num:\n",
        "    print(\"the current number is:\",count)\n",
        "    count+=1\n"
      ],
      "metadata": {
        "colab": {
          "base_uri": "https://localhost:8080/"
        },
        "id": "pmcjm-nJAb5g",
        "outputId": "9e4e65fb-b7d9-4009-c12a-ce308d5ac73f"
      },
      "execution_count": null,
      "outputs": [
        {
          "output_type": "stream",
          "name": "stdout",
          "text": [
            "the current number is: 1\n",
            "the current number is: 2\n",
            "the current number is: 3\n",
            "the current number is: 4\n",
            "the current number is: 5\n"
          ]
        }
      ]
    },
    {
      "cell_type": "code",
      "source": [
        "for number in 1,2,3,4,5:\n",
        "  print(\"The current number is \",number)\n"
      ],
      "metadata": {
        "colab": {
          "base_uri": "https://localhost:8080/"
        },
        "id": "fq8hq3udAi8U",
        "outputId": "8e984693-b02f-4160-9e4f-3deca12d0385"
      },
      "execution_count": null,
      "outputs": [
        {
          "output_type": "stream",
          "name": "stdout",
          "text": [
            "The current number is  1\n",
            "The current number is  2\n",
            "The current number is  3\n",
            "The current number is  4\n",
            "The current number is  5\n"
          ]
        }
      ]
    },
    {
      "cell_type": "code",
      "source": [
        "start=1\n",
        "end=10\n",
        "step=2\n",
        "for number in range (start, end, step):\n",
        "     print(\"The current number is \", number)\n"
      ],
      "metadata": {
        "colab": {
          "base_uri": "https://localhost:8080/"
        },
        "id": "6NFqvQa_AxLE",
        "outputId": "ed836302-7fec-4008-e2e0-554f8d1b0611"
      },
      "execution_count": null,
      "outputs": [
        {
          "output_type": "stream",
          "name": "stdout",
          "text": [
            "The current number is  1\n",
            "The current number is  3\n",
            "The current number is  5\n",
            "The current number is  7\n",
            "The current number is  9\n"
          ]
        }
      ]
    },
    {
      "cell_type": "code",
      "source": [
        "for number in 10,15:\n",
        "    for counter in range(1,3):\n",
        "        print(number*counter, end=\" \")"
      ],
      "metadata": {
        "colab": {
          "base_uri": "https://localhost:8080/"
        },
        "id": "7_l-dNSOBrHZ",
        "outputId": "189c7299-ad48-4120-b0fd-b16472510733"
      },
      "execution_count": null,
      "outputs": [
        {
          "output_type": "stream",
          "name": "stdout",
          "text": [
            "10 20 15 30 "
          ]
        }
      ]
    },
    {
      "cell_type": "code",
      "source": [
        "number=28\n",
        "for num in range(25,30):\n",
        "    if(number>num):\n",
        "        print(num)\n",
        "    else:\n",
        "        print(num)\n",
        "        break"
      ],
      "metadata": {
        "colab": {
          "base_uri": "https://localhost:8080/"
        },
        "id": "CZaDDnYQBw6m",
        "outputId": "1238f410-d8b4-4b61-e58e-80b8dcf6a413"
      },
      "execution_count": null,
      "outputs": [
        {
          "output_type": "stream",
          "name": "stdout",
          "text": [
            "25\n",
            "26\n",
            "27\n",
            "28\n"
          ]
        }
      ]
    },
    {
      "cell_type": "code",
      "source": [
        "for num in 23, 45, 50, 65, 76, 90:\n",
        "    if(num%5!=0):\n",
        "        continue\n",
        "    if(num%10==0):\n",
        "        print(num, end=\" \")\n",
        "        continue\n",
        "    if(num%3==0):\n",
        "        print(num, end=\" \")"
      ],
      "metadata": {
        "colab": {
          "base_uri": "https://localhost:8080/"
        },
        "id": "oWJ2CTq-B2WJ",
        "outputId": "bc1f3dad-e9cd-41a4-cfcb-5b341d79fb0a"
      },
      "execution_count": null,
      "outputs": [
        {
          "output_type": "stream",
          "name": "stdout",
          "text": [
            "45 50 90 "
          ]
        }
      ]
    },
    {
      "cell_type": "code",
      "source": [
        "num1=16\n",
        "num2=6\n",
        "while(num1>=2):\n",
        "    if(num1>num2):\n",
        "        num1=num1/2\n",
        "    else:\n",
        "        print(num1)\n",
        "        break"
      ],
      "metadata": {
        "colab": {
          "base_uri": "https://localhost:8080/"
        },
        "id": "mZzBbORMB6y1",
        "outputId": "ecd7209f-bf8e-4a8f-9c2d-19ea259babce"
      },
      "execution_count": null,
      "outputs": [
        {
          "output_type": "stream",
          "name": "stdout",
          "text": [
            "4.0\n"
          ]
        }
      ]
    },
    {
      "cell_type": "code",
      "source": [
        "for number in range(1,5):\n",
        "  print (\"The current number is \",number)\n",
        "print(\"---------------------------\")\n",
        "for number in range(1,7,2):\n",
        "   print (\"The current number is \",number)\n",
        "print(\"---------------------------\")\n",
        "for number in range(5,0,-1):\n",
        "   print (\"The current number is \",number)\n"
      ],
      "metadata": {
        "colab": {
          "base_uri": "https://localhost:8080/"
        },
        "id": "iTLa1HJQkhEC",
        "outputId": "ae7702b5-25e5-4321-c59d-0dcbb1181c9e"
      },
      "execution_count": 2,
      "outputs": [
        {
          "output_type": "stream",
          "name": "stdout",
          "text": [
            "The current number is  1\n",
            "The current number is  2\n",
            "The current number is  3\n",
            "The current number is  4\n",
            "---------------------------\n",
            "The current number is  1\n",
            "The current number is  3\n",
            "The current number is  5\n",
            "---------------------------\n",
            "The current number is  5\n",
            "The current number is  4\n",
            "The current number is  3\n",
            "The current number is  2\n",
            "The current number is  1\n"
          ]
        }
      ]
    },
    {
      "cell_type": "code",
      "source": [
        "number_of_passengers=5\n",
        "number_of_baggage=2\n",
        "security_check=True\n",
        "for passenger_count in range(1, number_of_passengers+1):\n",
        "    for baggage_count in range(1,number_of_baggage+1):\n",
        "        if(security_check==True):\n",
        "            print(\"Security check of passenger:\", passenger_count, \"-- baggage:\", baggage_count,\"baggage cleared\")\n",
        "        else:\n",
        "            print(\"Security check of passenger:\", passenger_count, \"-- baggage:\", baggage_count,\"baggage not cleared\")\n"
      ],
      "metadata": {
        "colab": {
          "base_uri": "https://localhost:8080/"
        },
        "id": "8b4XKHOWk2ap",
        "outputId": "41829982-7dac-4c5c-ab99-d91ebe7d20e7"
      },
      "execution_count": 3,
      "outputs": [
        {
          "output_type": "stream",
          "name": "stdout",
          "text": [
            "Security check of passenger: 1 -- baggage: 1 baggage cleared\n",
            "Security check of passenger: 1 -- baggage: 2 baggage cleared\n",
            "Security check of passenger: 2 -- baggage: 1 baggage cleared\n",
            "Security check of passenger: 2 -- baggage: 2 baggage cleared\n",
            "Security check of passenger: 3 -- baggage: 1 baggage cleared\n",
            "Security check of passenger: 3 -- baggage: 2 baggage cleared\n",
            "Security check of passenger: 4 -- baggage: 1 baggage cleared\n",
            "Security check of passenger: 4 -- baggage: 2 baggage cleared\n",
            "Security check of passenger: 5 -- baggage: 1 baggage cleared\n",
            "Security check of passenger: 5 -- baggage: 2 baggage cleared\n"
          ]
        }
      ]
    },
    {
      "cell_type": "code",
      "source": [
        "number_of_passengers=5\n",
        "number_of_baggage=2\n",
        "security_check=True\n",
        "for passenger_count in range(1, number_of_passengers+1):\n",
        "    baggage_count =1\n",
        "    while (baggage_count<=number_of_baggage):\n",
        "        if(security_check==True):\n",
        "            print(\"Security check of passenger:\", passenger_count, \"-- baggage:\", baggage_count,\"baggage cleared\")\n",
        "        else:\n",
        "            print(\"Security check of passenger:\", passenger_count, \"-- baggage:\", baggage_count,\"baggage not cleared\")\n",
        "        baggage_count+=1\n"
      ],
      "metadata": {
        "colab": {
          "base_uri": "https://localhost:8080/"
        },
        "id": "YGYWAltgk8QP",
        "outputId": "7f2ef9ad-2004-4079-e8b4-9e9ddc8f9a61"
      },
      "execution_count": 4,
      "outputs": [
        {
          "output_type": "stream",
          "name": "stdout",
          "text": [
            "Security check of passenger: 1 -- baggage: 1 baggage cleared\n",
            "Security check of passenger: 1 -- baggage: 2 baggage cleared\n",
            "Security check of passenger: 2 -- baggage: 1 baggage cleared\n",
            "Security check of passenger: 2 -- baggage: 2 baggage cleared\n",
            "Security check of passenger: 3 -- baggage: 1 baggage cleared\n",
            "Security check of passenger: 3 -- baggage: 2 baggage cleared\n",
            "Security check of passenger: 4 -- baggage: 1 baggage cleared\n",
            "Security check of passenger: 4 -- baggage: 2 baggage cleared\n",
            "Security check of passenger: 5 -- baggage: 1 baggage cleared\n",
            "Security check of passenger: 5 -- baggage: 2 baggage cleared\n"
          ]
        }
      ]
    },
    {
      "cell_type": "code",
      "source": [
        "def sum_of_digits(number):\n",
        "    total = 0\n",
        "    while number > 0:\n",
        "        digit = number % 10\n",
        "        total += digit\n",
        "        number = number // 10\n",
        "    return total\n",
        "\n",
        "# Test with different numbers\n",
        "test_numbers = [123, 4567, 0, 9999, 1001]\n",
        "\n",
        "for num in test_numbers:\n",
        "    print(f\"Sum of digits of {num} is {sum_of_digits(num)}\")\n"
      ],
      "metadata": {
        "colab": {
          "base_uri": "https://localhost:8080/"
        },
        "id": "-OuqyLy5lFXI",
        "outputId": "03ab430e-b736-43c7-b89d-646ab1151df9"
      },
      "execution_count": 5,
      "outputs": [
        {
          "output_type": "stream",
          "name": "stdout",
          "text": [
            "Sum of digits of 123 is 6\n",
            "Sum of digits of 4567 is 22\n",
            "Sum of digits of 0 is 0\n",
            "Sum of digits of 9999 is 36\n",
            "Sum of digits of 1001 is 2\n"
          ]
        }
      ]
    },
    {
      "cell_type": "code",
      "source": [
        "for passenger in \"A\",\"A\", \"FC\", \"C\", \"FA\", \"SP\", \"A\", \"A\":\n",
        "    if(passenger==\"FC\" or passenger==\"FA\"):\n",
        "        print(\"No check required\")\n",
        "        continue\n",
        "    if(passenger==\"SP\"):\n",
        "        print(\"Declare emergency in the airport\")\n",
        "        break\n",
        "    if(passenger==\"A\" or passenger==\"C\"):\n",
        "        print(\"Proceed with normal security check\")\n",
        "    print(\"Check the person\")\n",
        "    print(\"Check for cabin baggage\")\n"
      ],
      "metadata": {
        "colab": {
          "base_uri": "https://localhost:8080/"
        },
        "id": "9BR4-wzFlOop",
        "outputId": "126d1de6-aa29-45b9-8410-d4049ba56e28"
      },
      "execution_count": 6,
      "outputs": [
        {
          "output_type": "stream",
          "name": "stdout",
          "text": [
            "Proceed with normal security check\n",
            "Check the person\n",
            "Check for cabin baggage\n",
            "Proceed with normal security check\n",
            "Check the person\n",
            "Check for cabin baggage\n",
            "No check required\n",
            "Proceed with normal security check\n",
            "Check the person\n",
            "Check for cabin baggage\n",
            "No check required\n",
            "Declare emergency in the airport\n"
          ]
        }
      ]
    },
    {
      "cell_type": "code",
      "source": [
        "num=10\n",
        "count=0\n",
        "while(count <= num):\n",
        "    if(count%2 == 0):\n",
        "        pass\n",
        "    else:\n",
        "        print(count)\n",
        "    count+=1\n"
      ],
      "metadata": {
        "colab": {
          "base_uri": "https://localhost:8080/"
        },
        "id": "fwNZnuBOlSvU",
        "outputId": "bbf7117d-a129-44d0-baf9-0cbe5aded700"
      },
      "execution_count": 7,
      "outputs": [
        {
          "output_type": "stream",
          "name": "stdout",
          "text": [
            "1\n",
            "3\n",
            "5\n",
            "7\n",
            "9\n"
          ]
        }
      ]
    },
    {
      "cell_type": "code",
      "source": [
        "observe1=\"What's happening!!\"\n",
        "def passport_check(passport_no):\n",
        "    observe4=\"actual copied to formal\"\n",
        "    observe5=\"func. execution starts\"\n",
        "    if(len(passport_no)==8):\n",
        "        if(passport_no[0]>=\"A\" and passport_no[0]<=\"Z\"):\n",
        "            status=\"valid\"\n",
        "        else:\n",
        "            status=\"invalid\"\n",
        "    else:\n",
        "        status= \"invalid\"\n",
        "    observe6=\"func. execution ends\"\n",
        "    return status\n",
        "observe2=\"function with formal arg.\"\n",
        "observe3=\"calling with actual arg.\"\n",
        "passport_status=passport_check(\"M9993471\")\n",
        "print(\"Passport is\",passport_status)\n",
        "#observe1,2,3,4,5,6 are temporary variables used to explain this concept\n"
      ],
      "metadata": {
        "colab": {
          "base_uri": "https://localhost:8080/"
        },
        "id": "mwwnHSwrlvfF",
        "outputId": "7f11d412-f7ea-4dbd-c3e7-9614644a2af2"
      },
      "execution_count": 8,
      "outputs": [
        {
          "output_type": "stream",
          "name": "stdout",
          "text": [
            "Passport is valid\n"
          ]
        }
      ]
    },
    {
      "cell_type": "code",
      "source": [
        "def find_square(n):\n",
        "    return n * n\n",
        "\n",
        "# Invoking the function with different test values\n",
        "numbers = [3, 5, -4, 0]\n",
        "\n",
        "for num in numbers:\n",
        "    print(f\"The square of {num} is {find_square(num)}\")\n",
        "\n"
      ],
      "metadata": {
        "colab": {
          "base_uri": "https://localhost:8080/"
        },
        "id": "39Mqny-7mGE7",
        "outputId": "91b534b4-0a1c-4ee8-b845-c6dde03bd8a5"
      },
      "execution_count": 9,
      "outputs": [
        {
          "output_type": "stream",
          "name": "stdout",
          "text": [
            "The square of 3 is 9\n",
            "The square of 5 is 25\n",
            "The square of -4 is 16\n",
            "The square of 0 is 0\n"
          ]
        }
      ]
    },
    {
      "cell_type": "code",
      "source": [
        "def find_sum(n):\n",
        "    total = 0\n",
        "    for i in range(1, n + 1):\n",
        "        total += i\n",
        "    return total\n",
        "\n",
        "# Invoking the function with different values\n",
        "test_values = [5, 10, 0, 1]\n",
        "\n",
        "for n in test_values:\n",
        "    print(f\"Sum of first {n} numbers is {find_sum(n)}\")\n"
      ],
      "metadata": {
        "colab": {
          "base_uri": "https://localhost:8080/"
        },
        "id": "sPSlHyf7sV15",
        "outputId": "7b23441d-e9cc-4245-9673-08c1b250fbc4"
      },
      "execution_count": 11,
      "outputs": [
        {
          "output_type": "stream",
          "name": "stdout",
          "text": [
            "Sum of first 5 numbers is 15\n",
            "Sum of first 10 numbers is 55\n",
            "Sum of first 0 numbers is 0\n",
            "Sum of first 1 numbers is 1\n"
          ]
        }
      ]
    },
    {
      "cell_type": "code",
      "source": [
        "def change_number(num):\n",
        "    num+=10\n",
        "def change_list(num_list):\n",
        "    num_list.append(20)\n",
        "num_val=10\n",
        "print(\"*********effect of pass by value*********\")\n",
        "print(\"num_val before function call:\", num_val)\n",
        "change_number(num_val)\n",
        "print(\"num_val after function call:\", num_val)\n",
        "print(\"-----------------------------------------------\")\n",
        "val_list=[5,10,15]\n",
        "print(\"*********effect of pass by reference*********\")\n",
        "print(\"val_list before function call:\", val_list)\n",
        "change_list(val_list)\n",
        "print(\"val_list after function call:\", val_list)\n"
      ],
      "metadata": {
        "colab": {
          "base_uri": "https://localhost:8080/"
        },
        "id": "qW_EwDZlsxme",
        "outputId": "e3a1e07b-8671-4641-957e-a6ffca4b7a17"
      },
      "execution_count": 12,
      "outputs": [
        {
          "output_type": "stream",
          "name": "stdout",
          "text": [
            "*********effect of pass by value*********\n",
            "num_val before function call: 10\n",
            "num_val after function call: 10\n",
            "-----------------------------------------------\n",
            "*********effect of pass by reference*********\n",
            "val_list before function call: [5, 10, 15]\n",
            "val_list after function call: [5, 10, 15, 20]\n"
          ]
        }
      ]
    },
    {
      "cell_type": "code",
      "source": [
        "def display1(flight_number, seating_capacity):\n",
        "    print(\"Flight Number:\", flight_number)\n",
        "    print(\"Seating Capacity:\", seating_capacity)\n",
        "print(\"code-1: positional arguments\")\n",
        "display1(\"FN789\",200)\n",
        "#Uncomment and execute the below function call statement and observe the output\n",
        "#display1(300,\"FN123\")\n",
        "def display2(flight_number, seating_capacity):\n",
        "    print(\"Flight Number:\", flight_number)\n",
        "    print(\"Seating Capacity:\", seating_capacity)\n",
        "print(\"-------------------------------------------------\")\n",
        "print(\"code-2: keyword arguments\")\n",
        "display2(seating_capacity=250, flight_number=\"FN789\")\n",
        "def display3(flight_number, flight_make=\"Boeing\", seating_capacity=150):\n",
        "    print(\"Flight Number:\", flight_number)\n",
        "    print(\"Flight Make:\", flight_make)\n",
        "    print(\"Seating Capacity:\", seating_capacity)\n",
        "print(\"-------------------------------------------------\")\n",
        "print(\"code-3: default arguments\")\n",
        "display3(\"FN789\",\"Eagle\")\n",
        "#Uncomment and execute the below function call statements one by one and observe the output\n",
        "#display3(\"FN234\")\n",
        "#display3(\"FN678\",\"Qantas\",200)\n",
        "def display4(passenger_name, *baggage_tuple):\n",
        "    print(\"Passenger name:\",passenger_name)\n",
        "    total_wt=0\n",
        "    for baggage_wt in baggage_tuple:\n",
        "        total_wt+=baggage_wt\n",
        "    print(\"Total baggage weight in kg:\", total_wt)\n",
        "print(\"-------------------------------------------------\")\n",
        "print(\"code-4: variable argument count\")\n",
        "display4(\"Jack\",12,8,5)\n",
        "#Uncomment and execute the below function call statements one by one and observe the output\n",
        "#display4(\"Chan\",20,12)\n",
        "#display4(\"Henry\",23)\n"
      ],
      "metadata": {
        "colab": {
          "base_uri": "https://localhost:8080/"
        },
        "id": "3Yri9-6HtEKX",
        "outputId": "d361bfdb-d94c-4d18-e132-274df2e4fc55"
      },
      "execution_count": 13,
      "outputs": [
        {
          "output_type": "stream",
          "name": "stdout",
          "text": [
            "code-1: positional arguments\n",
            "Flight Number: FN789\n",
            "Seating Capacity: 200\n",
            "-------------------------------------------------\n",
            "code-2: keyword arguments\n",
            "Flight Number: FN789\n",
            "Seating Capacity: 250\n",
            "-------------------------------------------------\n",
            "code-3: default arguments\n",
            "Flight Number: FN789\n",
            "Flight Make: Eagle\n",
            "Seating Capacity: 150\n",
            "-------------------------------------------------\n",
            "code-4: variable argument count\n",
            "Passenger name: Jack\n",
            "Total baggage weight in kg: 25\n"
          ]
        }
      ]
    },
    {
      "cell_type": "code",
      "source": [
        "wt_limit=30\n",
        "def baggage_check(baggage_wt):\n",
        "    extra_baggage_charge=0\n",
        "    if not(baggage_wt>=0 and baggage_wt<=wt_limit):\n",
        "        extra_baggage=baggage_wt-wt_limit\n",
        "        extra_baggage_charge=extra_baggage*100\n",
        "    return extra_baggage_charge\n",
        "def update_baggage_limit(new_wt_limit):\n",
        "    wt_limit=new_wt_limit\n",
        "    print(\"This airline now allows baggage limit till\",wt_limit,\"kgs\")\n",
        "print(\"This airline allows baggage limit till\",wt_limit,\"kgs\")\n",
        "print(\"Pay the extra baggage charge of\",baggage_check(35),\"rupees\")\n",
        "update_baggage_limit(45)\n",
        "print(\"Pay the extra baggage charge of\",baggage_check(35),\"rupees\")\n"
      ],
      "metadata": {
        "colab": {
          "base_uri": "https://localhost:8080/"
        },
        "id": "dsioLtQBtLMN",
        "outputId": "4715d88c-7458-493f-9736-9385a251d1a4"
      },
      "execution_count": 14,
      "outputs": [
        {
          "output_type": "stream",
          "name": "stdout",
          "text": [
            "This airline allows baggage limit till 30 kgs\n",
            "Pay the extra baggage charge of 500 rupees\n",
            "This airline now allows baggage limit till 45 kgs\n",
            "Pay the extra baggage charge of 500 rupees\n"
          ]
        }
      ]
    },
    {
      "cell_type": "code",
      "source": [
        "def factorial(num):\n",
        "    if num == 0 or num == 1:\n",
        "        return 1\n",
        "    return num * factorial(num - 1)\n",
        "\n",
        "# Example usage\n",
        "print(\"Factorial of 5 is:\", factorial(5))\n"
      ],
      "metadata": {
        "colab": {
          "base_uri": "https://localhost:8080/"
        },
        "id": "AzfZl3z6tiWC",
        "outputId": "e1db55d9-bd6f-4e65-abdd-bfc454b0dcf7"
      },
      "execution_count": 15,
      "outputs": [
        {
          "output_type": "stream",
          "name": "stdout",
          "text": [
            "Factorial of 5 is: 120\n"
          ]
        }
      ]
    },
    {
      "cell_type": "code",
      "source": [
        "def is_palindrome(num):\n",
        "    return str(num) == str(num)[::-1]\n",
        "\n",
        "# Example usage\n",
        "num = 12321\n",
        "if is_palindrome(num):\n",
        "    print(\"Given number is a palindrome\")\n",
        "else:\n",
        "    print(\"Given number is not a palindrome\")\n",
        "\n",
        "num = 12345\n",
        "if is_palindrome(num):\n",
        "    print(\"Given number is a palindrome\")\n",
        "else:\n",
        "    print(\"Given number is not a palindrome\")\n"
      ],
      "metadata": {
        "colab": {
          "base_uri": "https://localhost:8080/"
        },
        "id": "CoRqgLI_tkPT",
        "outputId": "9f1990be-6c79-4c29-8fd9-a254be4c3fe0"
      },
      "execution_count": 16,
      "outputs": [
        {
          "output_type": "stream",
          "name": "stdout",
          "text": [
            "Given number is a palindrome\n",
            "Given number is not a palindrome\n"
          ]
        }
      ]
    },
    {
      "cell_type": "code",
      "source": [
        "def get_proper_divisors(n):\n",
        "    return [i for i in range(1, n) if n % i == 0]\n",
        "\n",
        "def check_amicable_numbers(num1, num2):\n",
        "    return sum(get_proper_divisors(num1)) == num2 and sum(get_proper_divisors(num2)) == num1\n",
        "\n",
        "# Example usage\n",
        "num1 = 220\n",
        "num2 = 284\n",
        "\n",
        "if check_amicable_numbers(num1, num2):\n",
        "    print(f\"{num1} and {num2} are amicable numbers\")\n",
        "else:\n",
        "    print(f\"{num1} and {num2} are not amicable numbers\")\n"
      ],
      "metadata": {
        "colab": {
          "base_uri": "https://localhost:8080/"
        },
        "id": "TysWt31ItmSk",
        "outputId": "090cfb40-fc80-4b14-eb26-ff9abd4c1e5f"
      },
      "execution_count": 17,
      "outputs": [
        {
          "output_type": "stream",
          "name": "stdout",
          "text": [
            "220 and 284 are amicable numbers\n"
          ]
        }
      ]
    },
    {
      "cell_type": "code",
      "source": [
        "def right_shift(num, n):\n",
        "    return num >> n\n",
        "\n",
        "# Example usage\n",
        "num = 60\n",
        "n = 2\n",
        "print(f\"Right shift of {num} by {n} positions is:\", right_shift(num, n))\n"
      ],
      "metadata": {
        "colab": {
          "base_uri": "https://localhost:8080/"
        },
        "id": "4cITy0gktop8",
        "outputId": "e4881b9d-fd19-4616-ef4e-b4fccb72363f"
      },
      "execution_count": 18,
      "outputs": [
        {
          "output_type": "stream",
          "name": "stdout",
          "text": [
            "Right shift of 60 by 2 positions is: 15\n"
          ]
        }
      ]
    },
    {
      "cell_type": "code",
      "source": [
        "def verify(num1,num2):\n",
        "    if num1 > num2:\n",
        "        return num1\n",
        "    elif num1 == num2:\n",
        "        return 1\n",
        "    else:\n",
        "        return num2\n",
        "\n",
        "def display(arg1,arg2):\n",
        "    if(verify(arg1,arg2)==arg1):\n",
        "        print(\"A\")\n",
        "    elif(verify(arg1,arg2)==1):\n",
        "        print(\"C\")\n",
        "    else:\n",
        "        print(\"B\")\n",
        "\n",
        "display(1000,3500)\n",
        "\n",
        "\n"
      ],
      "metadata": {
        "colab": {
          "base_uri": "https://localhost:8080/"
        },
        "id": "RI35BCP6uAhH",
        "outputId": "726e87f6-729a-4abe-8d43-1e74d3c106be"
      },
      "execution_count": 19,
      "outputs": [
        {
          "output_type": "stream",
          "name": "stdout",
          "text": [
            "B\n"
          ]
        }
      ]
    },
    {
      "cell_type": "code",
      "source": [
        "result=0\n",
        "\n",
        "def find_sum(num1,num2):\n",
        "    if(num1!=num2):\n",
        "        result=num1+num2\n",
        "    else:\n",
        "        result=2*(num1+num2)\n",
        "\n",
        "find_sum(3,4)\n",
        "print(result)\n",
        "find_sum(5,5)\n",
        "print(result)\n"
      ],
      "metadata": {
        "colab": {
          "base_uri": "https://localhost:8080/"
        },
        "id": "xPcJm2xAuEI0",
        "outputId": "2038e2f9-0988-49ae-902e-2e14c49b4eab"
      },
      "execution_count": 20,
      "outputs": [
        {
          "output_type": "stream",
          "name": "stdout",
          "text": [
            "0\n",
            "0\n"
          ]
        }
      ]
    },
    {
      "cell_type": "code",
      "source": [
        "def find_avg(list_num):\n",
        "    result_sum=0\n",
        "    for num in list_num:\n",
        "        result_sum+=num\n",
        "    result_avg=result_sum/len(list_num)\n",
        "find_avg([5,8,5])\n",
        "print(result_avg)\n"
      ],
      "metadata": {
        "colab": {
          "base_uri": "https://localhost:8080/",
          "height": 182
        },
        "id": "DBIIdi7RuHlS",
        "outputId": "d206141c-c943-41f2-af38-384150279585"
      },
      "execution_count": 21,
      "outputs": [
        {
          "output_type": "error",
          "ename": "NameError",
          "evalue": "name 'result_avg' is not defined",
          "traceback": [
            "\u001b[0;31m---------------------------------------------------------------------------\u001b[0m",
            "\u001b[0;31mNameError\u001b[0m                                 Traceback (most recent call last)",
            "\u001b[0;32m<ipython-input-21-86185464f166>\u001b[0m in \u001b[0;36m<cell line: 0>\u001b[0;34m()\u001b[0m\n\u001b[1;32m      5\u001b[0m     \u001b[0mresult_avg\u001b[0m\u001b[0;34m=\u001b[0m\u001b[0mresult_sum\u001b[0m\u001b[0;34m/\u001b[0m\u001b[0mlen\u001b[0m\u001b[0;34m(\u001b[0m\u001b[0mlist_num\u001b[0m\u001b[0;34m)\u001b[0m\u001b[0;34m\u001b[0m\u001b[0;34m\u001b[0m\u001b[0m\n\u001b[1;32m      6\u001b[0m \u001b[0mfind_avg\u001b[0m\u001b[0;34m(\u001b[0m\u001b[0;34m[\u001b[0m\u001b[0;36m5\u001b[0m\u001b[0;34m,\u001b[0m\u001b[0;36m8\u001b[0m\u001b[0;34m,\u001b[0m\u001b[0;36m5\u001b[0m\u001b[0;34m]\u001b[0m\u001b[0;34m)\u001b[0m\u001b[0;34m\u001b[0m\u001b[0;34m\u001b[0m\u001b[0m\n\u001b[0;32m----> 7\u001b[0;31m \u001b[0mprint\u001b[0m\u001b[0;34m(\u001b[0m\u001b[0mresult_avg\u001b[0m\u001b[0;34m)\u001b[0m\u001b[0;34m\u001b[0m\u001b[0;34m\u001b[0m\u001b[0m\n\u001b[0m",
            "\u001b[0;31mNameError\u001b[0m: name 'result_avg' is not defined"
          ]
        }
      ]
    },
    {
      "cell_type": "code",
      "source": [
        "list_of_airlines=[\"AL1\",\"AL2\",\"AL3\"]\n",
        "print(\"Iterating the list using range()\")\n",
        "for index in range(0,len(list_of_airlines)):\n",
        "    print(list_of_airlines[index])\n",
        "print(\"Iterating the list using keyword in\")\n",
        "for airline in list_of_airlines:\n",
        "    print(airline)\n"
      ],
      "metadata": {
        "colab": {
          "base_uri": "https://localhost:8080/"
        },
        "id": "5nckeV_3u62i",
        "outputId": "dbd85700-9a73-4e22-8d84-f6ed8221c6cd"
      },
      "execution_count": 22,
      "outputs": [
        {
          "output_type": "stream",
          "name": "stdout",
          "text": [
            "Iterating the list using range()\n",
            "AL1\n",
            "AL2\n",
            "AL3\n",
            "Iterating the list using keyword in\n",
            "AL1\n",
            "AL2\n",
            "AL3\n"
          ]
        }
      ]
    },
    {
      "cell_type": "code",
      "source": [
        "list_of_airlines=[\"AL1\",\"AL2\",\"AL3\"]\n",
        "airline=\"AL3\"\n",
        "if airline in list_of_airlines:\n",
        "    print(\"Airline found\")\n",
        "else:\n",
        "    print(\"Airline not found\")\n"
      ],
      "metadata": {
        "colab": {
          "base_uri": "https://localhost:8080/"
        },
        "id": "9-KbWpnPvF0n",
        "outputId": "beff0b5d-3409-4343-da93-b5a422f6f525"
      },
      "execution_count": 23,
      "outputs": [
        {
          "output_type": "stream",
          "name": "stdout",
          "text": [
            "Airline found\n"
          ]
        }
      ]
    },
    {
      "cell_type": "markdown",
      "source": [
        "Given a list of integer values, write a Python program to check whether the list contains the same number in adjacent positions. Display the count of such adjacent occurrences.\n",
        "\n"
      ],
      "metadata": {
        "id": "qOVx7fC6vXzq"
      }
    },
    {
      "cell_type": "code",
      "source": [
        "def count_adjacent_duplicates(lst):\n",
        "    count = 0\n",
        "    for i in range(len(lst) - 1):\n",
        "        if lst[i] == lst[i + 1]:\n",
        "            count += 1\n",
        "    return count\n",
        "\n",
        "# Sample Inputs and Outputs\n",
        "sample1 = [1, 1, 5, 100, -20, -20, 6, 0, 0]\n",
        "sample2 = [10, 20, 30, 40, 30, 20]\n",
        "sample3 = [1, 2, 2, 3, 4, 4, 4, 10]\n",
        "\n",
        "print(count_adjacent_duplicates(sample1))  # Output: 3\n",
        "print(count_adjacent_duplicates(sample2))  # Output: 0\n",
        "print(count_adjacent_duplicates(sample3))  # Output: 3\n"
      ],
      "metadata": {
        "colab": {
          "base_uri": "https://localhost:8080/"
        },
        "id": "AO9bU9SavUKk",
        "outputId": "564af783-4418-4845-e847-57393329e434"
      },
      "execution_count": 24,
      "outputs": [
        {
          "output_type": "stream",
          "name": "stdout",
          "text": [
            "3\n",
            "0\n",
            "3\n"
          ]
        }
      ]
    },
    {
      "cell_type": "code",
      "source": [
        "#Creating a string\n",
        "pancard_number=\"AABGT6715H\"\n",
        "#Length of the string\n",
        "print(\"Length of the PAN card number:\", len(pancard_number))\n",
        "#Concatenating two strings\n",
        "name1 =\"PAN \"\n",
        "name2=\"card\"\n",
        "name=name1+name2\n",
        "print(name)\n",
        "print(\"Iterating the string using range()\")\n",
        "for index in range(0,len(pancard_number)):\n",
        "    print(pancard_number[index])\n",
        "\n",
        "print(\"Iterating the string using keyword in\")\n",
        "for value in pancard_number:\n",
        "    print(value)\n",
        "print(\"Searching for a character in string\")\n",
        "if \"Z\" in pancard_number:\n",
        "    print(\"Character present\")\n",
        "else:\n",
        "    print(\"Character is not present\")\n",
        "#Slicing a string\n",
        "print(\"The numbers in the PAN card number:\", pancard_number[5:9])\n",
        "print(\"Last but one 3 characters in the PAN card:\",pancard_number[-4:-1])\n",
        "pancard_number[2]=\"A\" #This line will result in an error, i.e., string is immutable\n",
        "print(pancard_number)\n"
      ],
      "metadata": {
        "colab": {
          "base_uri": "https://localhost:8080/",
          "height": 709
        },
        "id": "4TTUbtZzvly-",
        "outputId": "d0c9f7a9-7968-4035-90ef-419c562b9580"
      },
      "execution_count": 27,
      "outputs": [
        {
          "output_type": "stream",
          "name": "stdout",
          "text": [
            "Length of the PAN card number: 10\n",
            "PAN card\n",
            "Iterating the string using range()\n",
            "A\n",
            "A\n",
            "B\n",
            "G\n",
            "T\n",
            "6\n",
            "7\n",
            "1\n",
            "5\n",
            "H\n",
            "Iterating the string using keyword in\n",
            "A\n",
            "A\n",
            "B\n",
            "G\n",
            "T\n",
            "6\n",
            "7\n",
            "1\n",
            "5\n",
            "H\n",
            "Searching for a character in string\n",
            "Character is not present\n",
            "The numbers in the PAN card number: 6715\n",
            "Last but one 3 characters in the PAN card: 715\n"
          ]
        },
        {
          "output_type": "error",
          "ename": "TypeError",
          "evalue": "'str' object does not support item assignment",
          "traceback": [
            "\u001b[0;31m---------------------------------------------------------------------------\u001b[0m",
            "\u001b[0;31mTypeError\u001b[0m                                 Traceback (most recent call last)",
            "\u001b[0;32m<ipython-input-27-d6d80aa7eb60>\u001b[0m in \u001b[0;36m<cell line: 0>\u001b[0;34m()\u001b[0m\n\u001b[1;32m     23\u001b[0m \u001b[0mprint\u001b[0m\u001b[0;34m(\u001b[0m\u001b[0;34m\"The numbers in the PAN card number:\"\u001b[0m\u001b[0;34m,\u001b[0m \u001b[0mpancard_number\u001b[0m\u001b[0;34m[\u001b[0m\u001b[0;36m5\u001b[0m\u001b[0;34m:\u001b[0m\u001b[0;36m9\u001b[0m\u001b[0;34m]\u001b[0m\u001b[0;34m)\u001b[0m\u001b[0;34m\u001b[0m\u001b[0;34m\u001b[0m\u001b[0m\n\u001b[1;32m     24\u001b[0m \u001b[0mprint\u001b[0m\u001b[0;34m(\u001b[0m\u001b[0;34m\"Last but one 3 characters in the PAN card:\"\u001b[0m\u001b[0;34m,\u001b[0m\u001b[0mpancard_number\u001b[0m\u001b[0;34m[\u001b[0m\u001b[0;34m-\u001b[0m\u001b[0;36m4\u001b[0m\u001b[0;34m:\u001b[0m\u001b[0;34m-\u001b[0m\u001b[0;36m1\u001b[0m\u001b[0;34m]\u001b[0m\u001b[0;34m)\u001b[0m\u001b[0;34m\u001b[0m\u001b[0;34m\u001b[0m\u001b[0m\n\u001b[0;32m---> 25\u001b[0;31m \u001b[0mpancard_number\u001b[0m\u001b[0;34m[\u001b[0m\u001b[0;36m2\u001b[0m\u001b[0;34m]\u001b[0m\u001b[0;34m=\u001b[0m\u001b[0;34m\"A\"\u001b[0m \u001b[0;31m#This line will result in an error, i.e., string is immutable\u001b[0m\u001b[0;34m\u001b[0m\u001b[0;34m\u001b[0m\u001b[0m\n\u001b[0m\u001b[1;32m     26\u001b[0m \u001b[0mprint\u001b[0m\u001b[0;34m(\u001b[0m\u001b[0mpancard_number\u001b[0m\u001b[0;34m)\u001b[0m\u001b[0;34m\u001b[0m\u001b[0;34m\u001b[0m\u001b[0m\n",
            "\u001b[0;31mTypeError\u001b[0m: 'str' object does not support item assignment"
          ]
        }
      ]
    },
    {
      "cell_type": "markdown",
      "source": [
        "Write a Python program to generate the ticket numbers for specified number of passengers traveling in a flight as per the details mentioned below:\n",
        "The ticket number should be generated as airline:src:dest:number where\n",
        "\n",
        "Consider AL1 as the value for airline\n",
        "\n",
        "src and dest should be the first three characters of the source and destination cities.\n",
        "\n",
        "number should be auto-generated starting from 101\n",
        "\n",
        "The program should return the list of ticket numbers of last five passengers.\n",
        "Note: If passenger count is less than 5, then return the list of all generated ticket numbers."
      ],
      "metadata": {
        "id": "jIHmHSsrvz61"
      }
    },
    {
      "cell_type": "code",
      "source": [
        "def generate_ticket_numbers(source, destination, passenger_count):\n",
        "    ticket_list = []\n",
        "    airline = \"AL1\"\n",
        "    src_code = source[:3].upper()\n",
        "    dest_code = destination[:3].upper()\n",
        "\n",
        "    for i in range(passenger_count):\n",
        "        ticket_num = f\"{airline}:{src_code}:{dest_code}:{101 + i}\"\n",
        "        ticket_list.append(ticket_num)\n",
        "\n",
        "    # Return last 5 tickets or all if fewer than 5\n",
        "    return ticket_list[-5:]\n",
        "\n",
        "# Example usage:\n",
        "tickets1 = generate_ticket_numbers(\"Bangalore\", \"Mumbai\", 9)\n",
        "print(\"Tickets for 9 passengers:\\n\", tickets1)\n",
        "\n",
        "tickets2 = generate_ticket_numbers(\"Delhi\", \"Chennai\", 3)\n",
        "print(\"Tickets for 3 passengers:\\n\", tickets2)\n"
      ],
      "metadata": {
        "colab": {
          "base_uri": "https://localhost:8080/"
        },
        "id": "NtCADzXvv1Gm",
        "outputId": "0e23a1e6-d2e6-4d65-b7cb-327743b7ec82"
      },
      "execution_count": 28,
      "outputs": [
        {
          "output_type": "stream",
          "name": "stdout",
          "text": [
            "Tickets for 9 passengers:\n",
            " ['AL1:BAN:MUM:105', 'AL1:BAN:MUM:106', 'AL1:BAN:MUM:107', 'AL1:BAN:MUM:108', 'AL1:BAN:MUM:109']\n",
            "Tickets for 3 passengers:\n",
            " ['AL1:DEL:CHE:101', 'AL1:DEL:CHE:102', 'AL1:DEL:CHE:103']\n"
          ]
        }
      ]
    },
    {
      "cell_type": "markdown",
      "source": [
        "Write a Python function proper_divisors(num) which returns a list of all the proper divisors of given number.\n",
        "\n",
        "Example: Proper divisors of 220 are 1, 2, 4, 5, 10, 11, 20, 22, 44, 55, 110\n",
        "\n",
        "Write a Python function generate_fibanacci(n) to return a list of first n Fibonacci numbers.\n",
        "\n",
        "Write a Python program to generate the next 15 leap years starting from a given year. Populate the leap years into a list and display the list.\n",
        "\n",
        "Given a string containing uppercase characters (A-Z), compress the string using Run Length encoding. Repetition of character has to be replaced by storing the length of that run.\n",
        "\n",
        "Write a python function encode(message)  which performs the run length encoding for a given String and returns the run length encoded String.\n",
        "\n",
        "Provide different String values and test your program.\n",
        "\n",
        "Example: message=AAAABBBBCCCCCCCC  output: 4A4B8C\n",
        "\n",
        "Represent a small bilingual (English-Swedish) glossary given below as a Python dictionary\n",
        "\n",
        "{\"merry\":\"god\", \"christmas\":\"jul\", \"and\":\"och\", \"happy\":\"gott\", \"new\":\"nytt\", \"year\":\"ar\"}\n",
        "\n",
        "and use it to translate your Christmas wishes from English into Swedish.\n",
        "\n",
        "That is, write a Python function translate(b_dict,list_words) that accepts the bilingual dictionary and a list of English words (your Christmas wish) and returns a list of equivalent Swedish words.\n",
        "\n"
      ],
      "metadata": {
        "id": "Ii3hcOBZwUIH"
      }
    },
    {
      "cell_type": "code",
      "source": [
        "def proper_divisors(num):\n",
        "    return [i for i in range(1, num) if num % i == 0]\n",
        "\n",
        "# Example\n",
        "print(proper_divisors(220))  # ➤ [1, 2, 4, 5, 10, 11, 20, 22, 44, 55, 110]\n"
      ],
      "metadata": {
        "colab": {
          "base_uri": "https://localhost:8080/"
        },
        "id": "5Vi6bH91wU5a",
        "outputId": "f0d503eb-f79f-44c5-8a71-d1bc186c0228"
      },
      "execution_count": 29,
      "outputs": [
        {
          "output_type": "stream",
          "name": "stdout",
          "text": [
            "[1, 2, 4, 5, 10, 11, 20, 22, 44, 55, 110]\n"
          ]
        }
      ]
    },
    {
      "cell_type": "code",
      "source": [
        "def generate_fibonacci(n):\n",
        "    if n <= 0:\n",
        "        return []\n",
        "    fib = [0, 1]\n",
        "    while len(fib) < n:\n",
        "        fib.append(fib[-1] + fib[-2])\n",
        "    return fib[:n]\n",
        "\n",
        "# Example\n",
        "print(generate_fibonacci(10))  # ➤ [0, 1, 1, 2, 3, 5, 8, 13, 21, 34]\n",
        "\n"
      ],
      "metadata": {
        "colab": {
          "base_uri": "https://localhost:8080/"
        },
        "id": "M8-5dSk7wZjt",
        "outputId": "09513580-b263-4d46-bd14-d2cdf6016130"
      },
      "execution_count": 30,
      "outputs": [
        {
          "output_type": "stream",
          "name": "stdout",
          "text": [
            "[0, 1, 1, 2, 3, 5, 8, 13, 21, 34]\n"
          ]
        }
      ]
    },
    {
      "cell_type": "code",
      "source": [
        "def next_leap_years(start_year):\n",
        "    leap_years = []\n",
        "    year = start_year\n",
        "    while len(leap_years) < 15:\n",
        "        if (year % 4 == 0 and year % 100 != 0) or (year % 400 == 0):\n",
        "            leap_years.append(year)\n",
        "        year += 1\n",
        "    return leap_years\n",
        "\n",
        "# Example\n",
        "print(next_leap_years(2025))  # ➤ [2028, 2032, 2036, ..., next 15 leap years]\n"
      ],
      "metadata": {
        "colab": {
          "base_uri": "https://localhost:8080/"
        },
        "id": "kxKlo55UwcrK",
        "outputId": "c33bc20d-4d5d-43c9-9ef3-2f7cfbf31e03"
      },
      "execution_count": 31,
      "outputs": [
        {
          "output_type": "stream",
          "name": "stdout",
          "text": [
            "[2028, 2032, 2036, 2040, 2044, 2048, 2052, 2056, 2060, 2064, 2068, 2072, 2076, 2080, 2084]\n"
          ]
        }
      ]
    },
    {
      "cell_type": "code",
      "source": [
        "def encode(message):\n",
        "    if not message:\n",
        "        return \"\"\n",
        "\n",
        "    encoded = \"\"\n",
        "    count = 1\n",
        "\n",
        "    for i in range(1, len(message)):\n",
        "        if message[i] == message[i-1]:\n",
        "            count += 1\n",
        "        else:\n",
        "            encoded += str(count) + message[i-1]\n",
        "            count = 1\n",
        "    encoded += str(count) + message[-1]  # last group\n",
        "    return encoded\n",
        "\n",
        "# Example\n",
        "print(encode(\"AAAABBBBCCCCCCCC\"))  # ➤ 4A4B8C\n",
        "print(encode(\"ABCD\"))              # ➤ 1A1B1C1D\n"
      ],
      "metadata": {
        "colab": {
          "base_uri": "https://localhost:8080/"
        },
        "id": "Vv72YREDwfM0",
        "outputId": "d8c6510f-6b14-4364-cd1b-9d4d7c1403f4"
      },
      "execution_count": 32,
      "outputs": [
        {
          "output_type": "stream",
          "name": "stdout",
          "text": [
            "4A4B8C\n",
            "1A1B1C1D\n"
          ]
        }
      ]
    },
    {
      "cell_type": "code",
      "source": [
        "def translate(b_dict, list_words):\n",
        "    return [b_dict.get(word.lower(), word) for word in list_words]\n",
        "\n",
        "# Glossary\n",
        "bilingual_dict = {\n",
        "    \"merry\": \"god\",\n",
        "    \"christmas\": \"jul\",\n",
        "    \"and\": \"och\",\n",
        "    \"happy\": \"gott\",\n",
        "    \"new\": \"nytt\",\n",
        "    \"year\": \"ar\"\n",
        "}\n",
        "\n",
        "# Example usage\n",
        "english_wish = [\"Merry\", \"Christmas\", \"and\", \"Happy\", \"New\", \"Year\"]\n",
        "swedish_translation = translate(bilingual_dict, english_wish)\n",
        "print(\" \".join(swedish_translation))  # ➤ god jul och gott nytt ar\n"
      ],
      "metadata": {
        "colab": {
          "base_uri": "https://localhost:8080/"
        },
        "id": "otEEsRhkwhvC",
        "outputId": "6d7fe539-e4be-4873-9638-2bb9266cae36"
      },
      "execution_count": 33,
      "outputs": [
        {
          "output_type": "stream",
          "name": "stdout",
          "text": [
            "god jul och gott nytt ar\n"
          ]
        }
      ]
    },
    {
      "cell_type": "code",
      "source": [
        "list1=[5,10,15,20,25]\n",
        "print(len(list1))\n",
        "print(list1[4])\n",
        "print(list1[5])\n",
        "print(list1[4:5])\n",
        "list1[2]=12\n",
        "print(list1)\n",
        "list1=list1+[8,9]\n",
        ""
      ],
      "metadata": {
        "colab": {
          "base_uri": "https://localhost:8080/",
          "height": 255
        },
        "id": "lbnOf0OBwugm",
        "outputId": "cf8c80df-0a3d-4826-ec92-919e14c73e54"
      },
      "execution_count": 38,
      "outputs": [
        {
          "output_type": "stream",
          "name": "stdout",
          "text": [
            "5\n",
            "25\n"
          ]
        },
        {
          "output_type": "error",
          "ename": "IndexError",
          "evalue": "list index out of range",
          "traceback": [
            "\u001b[0;31m---------------------------------------------------------------------------\u001b[0m",
            "\u001b[0;31mIndexError\u001b[0m                                Traceback (most recent call last)",
            "\u001b[0;32m<ipython-input-38-ca6dce6ac522>\u001b[0m in \u001b[0;36m<cell line: 0>\u001b[0;34m()\u001b[0m\n\u001b[1;32m      2\u001b[0m \u001b[0mprint\u001b[0m\u001b[0;34m(\u001b[0m\u001b[0mlen\u001b[0m\u001b[0;34m(\u001b[0m\u001b[0mlist1\u001b[0m\u001b[0;34m)\u001b[0m\u001b[0;34m)\u001b[0m\u001b[0;34m\u001b[0m\u001b[0;34m\u001b[0m\u001b[0m\n\u001b[1;32m      3\u001b[0m \u001b[0mprint\u001b[0m\u001b[0;34m(\u001b[0m\u001b[0mlist1\u001b[0m\u001b[0;34m[\u001b[0m\u001b[0;36m4\u001b[0m\u001b[0;34m]\u001b[0m\u001b[0;34m)\u001b[0m\u001b[0;34m\u001b[0m\u001b[0;34m\u001b[0m\u001b[0m\n\u001b[0;32m----> 4\u001b[0;31m \u001b[0mprint\u001b[0m\u001b[0;34m(\u001b[0m\u001b[0mlist1\u001b[0m\u001b[0;34m[\u001b[0m\u001b[0;36m5\u001b[0m\u001b[0;34m]\u001b[0m\u001b[0;34m)\u001b[0m\u001b[0;34m\u001b[0m\u001b[0;34m\u001b[0m\u001b[0m\n\u001b[0m\u001b[1;32m      5\u001b[0m \u001b[0mprint\u001b[0m\u001b[0;34m(\u001b[0m\u001b[0mlist1\u001b[0m\u001b[0;34m[\u001b[0m\u001b[0;36m4\u001b[0m\u001b[0;34m:\u001b[0m\u001b[0;36m5\u001b[0m\u001b[0;34m]\u001b[0m\u001b[0;34m)\u001b[0m\u001b[0;34m\u001b[0m\u001b[0;34m\u001b[0m\u001b[0m\n\u001b[1;32m      6\u001b[0m \u001b[0mlist1\u001b[0m\u001b[0;34m[\u001b[0m\u001b[0;36m2\u001b[0m\u001b[0;34m]\u001b[0m\u001b[0;34m=\u001b[0m\u001b[0;36m12\u001b[0m\u001b[0;34m\u001b[0m\u001b[0;34m\u001b[0m\u001b[0m\n",
            "\u001b[0;31mIndexError\u001b[0m: list index out of range"
          ]
        }
      ]
    },
    {
      "cell_type": "code",
      "source": [
        "my_list=[0]*5\n",
        "for index in range(1,5):\n",
        "\tmy_list[index]=(index-1)*10\n",
        "print(my_list)\n"
      ],
      "metadata": {
        "colab": {
          "base_uri": "https://localhost:8080/"
        },
        "id": "dGWbbLl-w7wA",
        "outputId": "33cbc8e7-23f5-46ca-b7ed-a0251c820f69"
      },
      "execution_count": 35,
      "outputs": [
        {
          "output_type": "stream",
          "name": "stdout",
          "text": [
            "[0, 0, 10, 20, 30]\n"
          ]
        }
      ]
    },
    {
      "cell_type": "code",
      "source": [
        "tuple1=(5,10,15,20,25)\n",
        "print(len(tuple1))\n",
        "tuple1[2]=100\n",
        "print(tuple1[5])\n",
        "tuple1=tuple1+(8,9,\"h\")"
      ],
      "metadata": {
        "colab": {
          "base_uri": "https://localhost:8080/",
          "height": 237
        },
        "id": "qd4imS87xB3E",
        "outputId": "de706163-9168-4f52-8b2d-8bd711bcab32"
      },
      "execution_count": 37,
      "outputs": [
        {
          "output_type": "stream",
          "name": "stdout",
          "text": [
            "5\n"
          ]
        },
        {
          "output_type": "error",
          "ename": "TypeError",
          "evalue": "'tuple' object does not support item assignment",
          "traceback": [
            "\u001b[0;31m---------------------------------------------------------------------------\u001b[0m",
            "\u001b[0;31mTypeError\u001b[0m                                 Traceback (most recent call last)",
            "\u001b[0;32m<ipython-input-37-ac451aecffcb>\u001b[0m in \u001b[0;36m<cell line: 0>\u001b[0;34m()\u001b[0m\n\u001b[1;32m      1\u001b[0m \u001b[0mtuple1\u001b[0m\u001b[0;34m=\u001b[0m\u001b[0;34m(\u001b[0m\u001b[0;36m5\u001b[0m\u001b[0;34m,\u001b[0m\u001b[0;36m10\u001b[0m\u001b[0;34m,\u001b[0m\u001b[0;36m15\u001b[0m\u001b[0;34m,\u001b[0m\u001b[0;36m20\u001b[0m\u001b[0;34m,\u001b[0m\u001b[0;36m25\u001b[0m\u001b[0;34m)\u001b[0m\u001b[0;34m\u001b[0m\u001b[0;34m\u001b[0m\u001b[0m\n\u001b[1;32m      2\u001b[0m \u001b[0mprint\u001b[0m\u001b[0;34m(\u001b[0m\u001b[0mlen\u001b[0m\u001b[0;34m(\u001b[0m\u001b[0mtuple1\u001b[0m\u001b[0;34m)\u001b[0m\u001b[0;34m)\u001b[0m\u001b[0;34m\u001b[0m\u001b[0;34m\u001b[0m\u001b[0m\n\u001b[0;32m----> 3\u001b[0;31m \u001b[0mtuple1\u001b[0m\u001b[0;34m[\u001b[0m\u001b[0;36m2\u001b[0m\u001b[0;34m]\u001b[0m\u001b[0;34m=\u001b[0m\u001b[0;36m100\u001b[0m\u001b[0;34m\u001b[0m\u001b[0;34m\u001b[0m\u001b[0m\n\u001b[0m\u001b[1;32m      4\u001b[0m \u001b[0mprint\u001b[0m\u001b[0;34m(\u001b[0m\u001b[0mtuple1\u001b[0m\u001b[0;34m[\u001b[0m\u001b[0;36m5\u001b[0m\u001b[0;34m]\u001b[0m\u001b[0;34m)\u001b[0m\u001b[0;34m\u001b[0m\u001b[0;34m\u001b[0m\u001b[0m\n\u001b[1;32m      5\u001b[0m \u001b[0mtuple1\u001b[0m\u001b[0;34m=\u001b[0m\u001b[0mtuple1\u001b[0m\u001b[0;34m+\u001b[0m\u001b[0;34m(\u001b[0m\u001b[0;36m8\u001b[0m\u001b[0;34m,\u001b[0m\u001b[0;36m9\u001b[0m\u001b[0;34m,\u001b[0m\u001b[0;34m\"h\"\u001b[0m\u001b[0;34m)\u001b[0m\u001b[0;34m\u001b[0m\u001b[0;34m\u001b[0m\u001b[0m\n",
            "\u001b[0;31mTypeError\u001b[0m: 'tuple' object does not support item assignment"
          ]
        }
      ]
    },
    {
      "cell_type": "code",
      "source": [
        "pancard_list=[\"AABGT6715H\", \"UFFAC4352T\", \"IFSBD9163K\", \"JOOEC1225H\",\"RWXAFE187B\"]\n",
        "\n",
        "\n",
        "\n",
        "print(pancard_list[3][6], end=\" \")\n",
        "print(pancard_list[4][3:])"
      ],
      "metadata": {
        "colab": {
          "base_uri": "https://localhost:8080/"
        },
        "id": "N-zwrMGyxYEc",
        "outputId": "7a41879e-de60-4f9d-b2a5-26d2cf62d37b"
      },
      "execution_count": 40,
      "outputs": [
        {
          "output_type": "stream",
          "name": "stdout",
          "text": [
            "2 AFE187B\n"
          ]
        }
      ]
    },
    {
      "cell_type": "code",
      "source": [
        "message=\"welcome to Mysore\"\n",
        "word=message[-7:]\n",
        "if(word==\"Mysore\"):\n",
        "    print(\"got it\")\n",
        "else:\n",
        "    message=message[3:14]\n",
        "    print(message)"
      ],
      "metadata": {
        "colab": {
          "base_uri": "https://localhost:8080/"
        },
        "id": "3XGbEBLSxef_",
        "outputId": "77188979-310f-4e24-af9d-ed1f0c9f68cd"
      },
      "execution_count": 41,
      "outputs": [
        {
          "output_type": "stream",
          "name": "stdout",
          "text": [
            "come to Mys\n"
          ]
        }
      ]
    },
    {
      "cell_type": "markdown",
      "source": [
        "Code organization"
      ],
      "metadata": {
        "id": "ecQ_hRWqyJfr"
      }
    },
    {
      "cell_type": "code",
      "source": [
        "import random\n",
        "x=10\n",
        "y=50\n",
        "print(random.randrange(x,y))\n"
      ],
      "metadata": {
        "colab": {
          "base_uri": "https://localhost:8080/"
        },
        "id": "XVOdfgzTyKWZ",
        "outputId": "670eb536-07a5-4db0-d390-a72388dfa1c0"
      },
      "execution_count": 42,
      "outputs": [
        {
          "output_type": "stream",
          "name": "stdout",
          "text": [
            "10\n"
          ]
        }
      ]
    },
    {
      "cell_type": "code",
      "source": [
        "import math\n",
        "num1=234.01\n",
        "num2=6\n",
        "num3=-27.01\n",
        "print(\"The smallest integer greater than or equal to num1,\",num1,\":\",math.ceil(num1))\n",
        "print(\"The largest integer smaller than or equal to num1,\",num1,\":\",math.floor(num1))\n",
        "print(\"The factorial of num2,\",num2,\":\", math.factorial(num2))\n",
        "print(\"The absolute value of num3\",num3,\":\",math.fabs(num3))\n",
        "\n"
      ],
      "metadata": {
        "colab": {
          "base_uri": "https://localhost:8080/"
        },
        "id": "Vber79tuyO6h",
        "outputId": "31655d8f-3420-4d38-d942-138bbdc41628"
      },
      "execution_count": 43,
      "outputs": [
        {
          "output_type": "stream",
          "name": "stdout",
          "text": [
            "The smallest integer greater than or equal to num1, 234.01 : 235\n",
            "The largest integer smaller than or equal to num1, 234.01 : 234\n",
            "The factorial of num2, 6 : 720\n",
            "The absolute value of num3 -27.01 : 27.01\n"
          ]
        }
      ]
    },
    {
      "cell_type": "code",
      "source": [
        "boarding_call=\"Good Evening, this is the final call to AL passengers for the flight AL 466 which is planned to take off at 8.40A.M.\"\n",
        "if(boarding_call.startswith(\"Good Evening\")):\n",
        "    print(boarding_call.replace(\"Good Evening\",\"Good Morning\"))\n",
        "if(boarding_call.find(\"AL\"))>=0:\n",
        "    print(\"Welcome to Air Lines.\")\n",
        "if(boarding_call.endswith(\"A.M.\")):\n",
        "    print(\"Passengers are requested to have their breakfast.\")\n",
        "a=boarding_call.split(\" \")\n",
        "for i in a:\n",
        "    if(i.isdigit()):\n",
        "        print(\"Flight Number is specified to the passengers.\")\n",
        "print(\"Total number of times flight service name is specified in the boarding call:\",boarding_call.count(\"AL\"))\n",
        "message=\"Thank you all..Have a nice journey!\"\n",
        "print(message.upper())\n",
        "print(message.lower())\n"
      ],
      "metadata": {
        "colab": {
          "base_uri": "https://localhost:8080/"
        },
        "id": "WuZjgRdIyajK",
        "outputId": "daa7cad5-5693-4bd2-85e9-a64638bc8361"
      },
      "execution_count": 44,
      "outputs": [
        {
          "output_type": "stream",
          "name": "stdout",
          "text": [
            "Good Morning, this is the final call to AL passengers for the flight AL 466 which is planned to take off at 8.40A.M.\n",
            "Welcome to Air Lines.\n",
            "Passengers are requested to have their breakfast.\n",
            "Flight Number is specified to the passengers.\n",
            "Total number of times flight service name is specified in the boarding call: 2\n",
            "THANK YOU ALL..HAVE A NICE JOURNEY!\n",
            "thank you all..have a nice journey!\n"
          ]
        }
      ]
    },
    {
      "cell_type": "code",
      "source": [
        "crew_details={\n",
        "    \"Pilot\":\"Kumar\",\n",
        "    \"Co-pilot\":\"Raghav\",\n",
        "    \"Head-Strewardess\":\"Malini\",\n",
        "    \"Stewardess\":\"Mala\"\n",
        "}\n",
        "print(\"Before update:\")\n",
        "print(\"Co-pilot:\",crew_details.get(\"Co-pilot\"))\n",
        "crew_details.update({\"Flight Attendant\":\"Jane\", \"Co-pilot\":\"Henry\"})\n",
        "print(\"\\nAfter update:\")\n",
        "print(\"Co-pilot:\",crew_details.get(\"Co-pilot\"))\n",
        "print(\"Flight Attendant:\",crew_details[\"Flight Attendant\"])\n"
      ],
      "metadata": {
        "colab": {
          "base_uri": "https://localhost:8080/"
        },
        "id": "jjeLBeIIyieo",
        "outputId": "3eeb0194-d504-4d4a-edfc-3033896b688f"
      },
      "execution_count": 45,
      "outputs": [
        {
          "output_type": "stream",
          "name": "stdout",
          "text": [
            "Before update:\n",
            "Co-pilot: Raghav\n",
            "\n",
            "After update:\n",
            "Co-pilot: Henry\n",
            "Flight Attendant: Jane\n"
          ]
        }
      ]
    },
    {
      "cell_type": "code",
      "source": [
        "import re\n",
        "if(re.search(r\"Air\",\"Airline\")!=None):\n",
        "    print(\"Pattern found\")\n",
        "else:\n",
        "    print(\"Pattern not found\")\n"
      ],
      "metadata": {
        "colab": {
          "base_uri": "https://localhost:8080/"
        },
        "id": "Bv9aZuRBy6dR",
        "outputId": "8e84489a-bb7f-4b0f-ce8e-7c38262b8e4c"
      },
      "execution_count": 46,
      "outputs": [
        {
          "output_type": "stream",
          "name": "stdout",
          "text": [
            "Pattern found\n"
          ]
        }
      ]
    },
    {
      "cell_type": "code",
      "source": [
        "import re\n",
        "if(re.search(r\"Air\",\"airline\")!=None):\n",
        "    print(\"Pattern found\")\n",
        "else:\n",
        "    print(\"Pattern not found\")\n"
      ],
      "metadata": {
        "colab": {
          "base_uri": "https://localhost:8080/"
        },
        "id": "WVB00AQ8y9Av",
        "outputId": "02f74180-6ed3-4cb1-f287-716299549b29"
      },
      "execution_count": 47,
      "outputs": [
        {
          "output_type": "stream",
          "name": "stdout",
          "text": [
            "Pattern not found\n"
          ]
        }
      ]
    },
    {
      "cell_type": "code",
      "source": [
        "import re\n",
        "flight_details=\"Flight Savana Airlines a2134\"\n",
        "print(flight_details)\n",
        "print(re.sub(r\"Flight\",r\"Plane\",flight_details))\n"
      ],
      "metadata": {
        "colab": {
          "base_uri": "https://localhost:8080/"
        },
        "id": "mXtEZBdAzOn7",
        "outputId": "be355a6e-1718-42bf-93f2-6c8b9413d955"
      },
      "execution_count": 48,
      "outputs": [
        {
          "output_type": "stream",
          "name": "stdout",
          "text": [
            "Flight Savana Airlines a2134\n",
            "Plane Savana Airlines a2134\n"
          ]
        }
      ]
    },
    {
      "cell_type": "markdown",
      "source": [
        "Write a python function, encrypt_sentence(msg) which accepts a message and encrypts it based on rules given below and returns the encrypted message.\n",
        "\n",
        "\n",
        "Words at odd position -> Reverse It\n",
        "\n",
        "Words at even position -> Rearrange the characters so that all consonants appear before the vowels and their order should not change\n",
        "\n",
        "Note: Assume that the sentence would begin with a word and there will be only a single space between the words.\n",
        "\n",
        "          Perform case sensitive string operations wherever necessary.\n",
        "\n",
        "Example: msg=the sun rises in the east    output=eht snu sesir ni eht stea\n",
        "\n",
        "Write a Python program to find the number of characters present the given string.\n",
        "\n",
        "Write a Python program to find the numbers of words present in the given sentence.\n",
        "\n",
        "Write a Python function words_count(sentence) to return a dictionary with the length of words as key and number words with such length as value.\n",
        "\n",
        "Example: sentence=“I love python and it so easy to learn” sample output={1:1,4:2,5:1,3:1,2:3,6:1}\n",
        "\n",
        "Write a Python function vowel_count(sentence) to return a dictionary with vowels, consonants, others as key and respective number of vowels, consonants, others characters as value.\n",
        "\n",
        "Note: Do case insensitive operations\n",
        "\n",
        "Example: sentence=“I love python and it so easy to learn”\n",
        "\n",
        "                 sample output={“vowels”:12,”consonants”:17, “others”:8}"
      ],
      "metadata": {
        "id": "M8B5NN0ozT-V"
      }
    },
    {
      "cell_type": "code",
      "source": [
        "def encrypt_sentence(msg):\n",
        "    vowels = \"aeiouAEIOU\"\n",
        "    words = msg.split()\n",
        "    encrypted_words = []\n",
        "\n",
        "    for i, word in enumerate(words):\n",
        "        if (i + 1) % 2 != 0:  # Odd-positioned word\n",
        "            encrypted_words.append(word[::-1])\n",
        "        else:  # Even-positioned word\n",
        "            consonants = ''.join([ch for ch in word if ch not in vowels])\n",
        "            vowels_part = ''.join([ch for ch in word if ch in vowels])\n",
        "            encrypted_words.append(consonants + vowels_part)\n",
        "\n",
        "    return ' '.join(encrypted_words)\n",
        "\n",
        "# Example\n",
        "print(encrypt_sentence(\"the sun rises in the east\"))  # Output: eht snu sesir ni eht stea\n"
      ],
      "metadata": {
        "colab": {
          "base_uri": "https://localhost:8080/"
        },
        "id": "eqSqiiIEzU1Y",
        "outputId": "09df71ec-aca7-4cb1-cc1b-30f021ce3891"
      },
      "execution_count": 49,
      "outputs": [
        {
          "output_type": "stream",
          "name": "stdout",
          "text": [
            "eht snu sesir ni eht stea\n"
          ]
        }
      ]
    },
    {
      "cell_type": "code",
      "source": [
        "def count_characters(string):\n",
        "    return len(string)\n",
        "\n",
        "# Example\n",
        "print(count_characters(\"Hello World\"))  # Output: 11\n"
      ],
      "metadata": {
        "colab": {
          "base_uri": "https://localhost:8080/"
        },
        "id": "UTrxdXphzh3J",
        "outputId": "ae8061a0-4b7f-4040-9ba9-55671617721a"
      },
      "execution_count": 50,
      "outputs": [
        {
          "output_type": "stream",
          "name": "stdout",
          "text": [
            "11\n"
          ]
        }
      ]
    },
    {
      "cell_type": "code",
      "source": [
        "def count_words(sentence):\n",
        "    return len(sentence.split())\n",
        "\n",
        "# Example\n",
        "print(count_words(\"I love python and it so easy to learn\"))  # Output: 9\n"
      ],
      "metadata": {
        "colab": {
          "base_uri": "https://localhost:8080/"
        },
        "id": "ebOiVmlVzkiK",
        "outputId": "dbd4175d-714b-471b-95df-fc75225b0868"
      },
      "execution_count": 51,
      "outputs": [
        {
          "output_type": "stream",
          "name": "stdout",
          "text": [
            "9\n"
          ]
        }
      ]
    },
    {
      "cell_type": "code",
      "source": [
        "def words_count(sentence):\n",
        "    words = sentence.split()\n",
        "    length_dict = {}\n",
        "\n",
        "    for word in words:\n",
        "        length = len(word)\n",
        "        if length in length_dict:\n",
        "            length_dict[length] += 1\n",
        "        else:\n",
        "            length_dict[length] = 1\n",
        "\n",
        "    return length_dict\n",
        "\n",
        "# Example\n",
        "print(words_count(\"I love python and it so easy to learn\"))\n",
        "# Output: {1: 1, 4: 2, 6: 1, 3: 1, 2: 3, 5: 1}\n"
      ],
      "metadata": {
        "colab": {
          "base_uri": "https://localhost:8080/"
        },
        "id": "3tDk1DqHzm0P",
        "outputId": "3e5a375b-d03e-4cab-e774-8d5a02b6f47d"
      },
      "execution_count": 52,
      "outputs": [
        {
          "output_type": "stream",
          "name": "stdout",
          "text": [
            "{1: 1, 4: 2, 6: 1, 3: 1, 2: 3, 5: 1}\n"
          ]
        }
      ]
    },
    {
      "cell_type": "code",
      "source": [
        "def vowel_count(sentence):\n",
        "    vowels = \"aeiou\"\n",
        "    result = {\"vowels\": 0, \"consonants\": 0, \"others\": 0}\n",
        "\n",
        "    for ch in sentence.lower():\n",
        "        if ch.isalpha():\n",
        "            if ch in vowels:\n",
        "                result[\"vowels\"] += 1\n",
        "            else:\n",
        "                result[\"consonants\"] += 1\n",
        "        else:\n",
        "            result[\"others\"] += 1\n",
        "\n",
        "    return result\n",
        "\n",
        "# Example\n",
        "print(vowel_count(\"I love python and it so easy to learn\"))\n",
        "# Output: {'vowels': 12, 'consonants': 17, 'others': 8}\n"
      ],
      "metadata": {
        "colab": {
          "base_uri": "https://localhost:8080/"
        },
        "id": "ZCROXS3fzpvD",
        "outputId": "9209ad3f-e0bc-4557-8d19-2b70e102d15e"
      },
      "execution_count": 53,
      "outputs": [
        {
          "output_type": "stream",
          "name": "stdout",
          "text": [
            "{'vowels': 12, 'consonants': 17, 'others': 8}\n"
          ]
        }
      ]
    },
    {
      "cell_type": "code",
      "source": [
        "song=\"JINGLE Bells jingle Bells Jingle All The Way\"\n",
        "song.upper()\n",
        "song_words=song.split()\n",
        "count=0\n",
        "for word in song_words:\n",
        "    if(word.startswith(\"jingle\")):\n",
        "        count=count+1\n",
        "print(count)"
      ],
      "metadata": {
        "colab": {
          "base_uri": "https://localhost:8080/"
        },
        "id": "FEn3jiEjzvHv",
        "outputId": "6b6308ce-4371-4853-dfa8-773fd439004d"
      },
      "execution_count": 54,
      "outputs": [
        {
          "output_type": "stream",
          "name": "stdout",
          "text": [
            "1\n"
          ]
        }
      ]
    },
    {
      "cell_type": "code",
      "source": [
        "sample_dict={'a':1,'b':2}\n",
        "sample_dict.update({'b':5, 'c':10 })\n",
        "print(sample_dict.get('a'),sample_dict.get('b'),sample_dict.get('c'))\n"
      ],
      "metadata": {
        "colab": {
          "base_uri": "https://localhost:8080/"
        },
        "id": "H-HlEvqNzyKe",
        "outputId": "20d6e7c1-059e-4ec0-b0e1-759f50bef37f"
      },
      "execution_count": 55,
      "outputs": [
        {
          "output_type": "stream",
          "name": "stdout",
          "text": [
            "1 5 10\n"
          ]
        }
      ]
    },
    {
      "cell_type": "code",
      "source": [
        "import re\n",
        "word=\"New Airlines4\"\n",
        "if(re.search(r\"^N\",word) and re.search(r\"e$\",word)):\n",
        "    print(re.sub(r\"New\",r\"Old\",word))\n",
        "else:\n",
        "    print(re.sub(r\"s(\\d{1})\",r\"S\\1\",word))"
      ],
      "metadata": {
        "colab": {
          "base_uri": "https://localhost:8080/"
        },
        "id": "UtS8DO9Cz21F",
        "outputId": "435f6e7e-1b87-48e2-d0f8-7433fcf65d8e"
      },
      "execution_count": 56,
      "outputs": [
        {
          "output_type": "stream",
          "name": "stdout",
          "text": [
            "New AirlineS4\n"
          ]
        }
      ]
    },
    {
      "cell_type": "code",
      "source": [
        "import math\n",
        "num_list=[100.5,30.465,-1.22,20.15]\n",
        "num_list.insert(1, -100.5)\n",
        "num_list.pop(0)\n",
        "num_list.sort()\n",
        "print(math.ceil(math.fabs(num_list[0])))"
      ],
      "metadata": {
        "colab": {
          "base_uri": "https://localhost:8080/"
        },
        "id": "3YGh26mkzyzr",
        "outputId": "0be3d0a7-9a36-4019-9a5d-6d89f90b67eb"
      },
      "execution_count": 57,
      "outputs": [
        {
          "output_type": "stream",
          "name": "stdout",
          "text": [
            "101\n"
          ]
        }
      ]
    },
    {
      "cell_type": "code",
      "source": [
        "fhr=open(\"data.txt\",\"r\")\n",
        "line1=fhr.readline()\n",
        "print(line1,end=\"\")\n",
        "line2=fhr.readline()\n",
        "print(line2,end=\"\")\n",
        "line3=fhr.readline()\n",
        "print(line3,end=\"\")\n"
      ],
      "metadata": {
        "colab": {
          "base_uri": "https://localhost:8080/"
        },
        "id": "PWdYGTDB08Ob",
        "outputId": "288417ee-9ca9-4f96-daa6-ff8ff43f8d61"
      },
      "execution_count": 61,
      "outputs": [
        {
          "output_type": "stream",
          "name": "stdout",
          "text": [
            "helllo"
          ]
        }
      ]
    },
    {
      "cell_type": "code",
      "source": [
        "fhr=open(\"data.txt\",\"r\")\n",
        "list_var=fhr.readlines()\n",
        "for line in list_var:\n",
        "    print(line,end=\"\")\n",
        "fhr.close()\n"
      ],
      "metadata": {
        "colab": {
          "base_uri": "https://localhost:8080/"
        },
        "id": "mOHRSbFo1R32",
        "outputId": "94a499af-474f-4379-ade0-b197b7a10c71"
      },
      "execution_count": 62,
      "outputs": [
        {
          "output_type": "stream",
          "name": "stdout",
          "text": [
            "helllo"
          ]
        }
      ]
    },
    {
      "cell_type": "code",
      "source": [
        "fhr=open(\"data.txt\",\"r\")\n",
        "data =fhr.read(10)\n",
        "print(data)\n",
        "fhr.close()"
      ],
      "metadata": {
        "colab": {
          "base_uri": "https://localhost:8080/"
        },
        "id": "azsPbjQ51VUi",
        "outputId": "f534575f-e8f4-4b6d-cf7c-3c940b26ee9a"
      },
      "execution_count": 63,
      "outputs": [
        {
          "output_type": "stream",
          "name": "stdout",
          "text": [
            "helllo\n"
          ]
        }
      ]
    },
    {
      "cell_type": "code",
      "source": [
        "fhr=open(\"data.txt\",\"r\")\n",
        "data =fhr.read()\n",
        "print(data)\n",
        "fhr.close()\n"
      ],
      "metadata": {
        "colab": {
          "base_uri": "https://localhost:8080/"
        },
        "id": "PUwlkHEN1Y9G",
        "outputId": "c48bc053-09c4-4592-c0ea-ec0e25f05b7a"
      },
      "execution_count": 64,
      "outputs": [
        {
          "output_type": "stream",
          "name": "stdout",
          "text": [
            "helllo\n"
          ]
        }
      ]
    },
    {
      "cell_type": "code",
      "source": [
        "fhr=open(\"data.txt\",\"r\")\n",
        "for line in fhr:\n",
        "    print(line,end=\"\")\n",
        "fhr.close()\n",
        "\n"
      ],
      "metadata": {
        "colab": {
          "base_uri": "https://localhost:8080/"
        },
        "id": "KvOHzgRU1dgo",
        "outputId": "3dccb14c-afdf-4e53-e4ac-210f77e47974"
      },
      "execution_count": 65,
      "outputs": [
        {
          "output_type": "stream",
          "name": "stdout",
          "text": [
            "helllo"
          ]
        }
      ]
    },
    {
      "cell_type": "code",
      "source": [
        "fhr=open(\"data.txt\",\"r\")\n",
        "data =fhr.read()\n",
        "print(\"Before writing:\")\n",
        "print(data)\n",
        "fhr.close()\n",
        "fhw=open(\"data.txt\",\"w\")\n",
        "num=fhw.write(\"this new first line written\\n\")\n",
        "num1=fhw.write(\"this new second line written\\n\")\n",
        "print(\"num:\",num)\n",
        "print(\"num1:\",num1)\n",
        "fhw.close()\n",
        "fhr=open(\"data.txt\",\"r\")\n",
        "data =fhr.read()\n",
        "print(\"After writing:\")\n",
        "print(data)\n",
        "fhr.close()\n"
      ],
      "metadata": {
        "colab": {
          "base_uri": "https://localhost:8080/"
        },
        "id": "Psn57Qme1iVH",
        "outputId": "e5cdb879-e2b1-4e8f-8477-09efaa07bd1f"
      },
      "execution_count": 66,
      "outputs": [
        {
          "output_type": "stream",
          "name": "stdout",
          "text": [
            "Before writing:\n",
            "helllo\n",
            "num: 28\n",
            "num1: 29\n",
            "After writing:\n",
            "this new first line written\n",
            "this new second line written\n",
            "\n"
          ]
        }
      ]
    },
    {
      "cell_type": "code",
      "source": [
        "fhr=open(\"data.txt\",\"r\")\n",
        "data =fhr.read()\n",
        "print(\"Before writing:\")\n",
        "print(data)\n",
        "fhr.close()\n",
        "fhw=open(\"data.txt\",\"a\")\n",
        "num=fhw.write(\"this new first line written\\n\")\n",
        "num1=fhw.write(\"this new second line written\\n\")\n",
        "print(\"num:\",num)\n",
        "print(\"num1:\",num1)\n",
        "fhw.close()\n",
        "fhr=open(\"data.txt\",\"r\")\n",
        "data =fhr.read()\n",
        "print(\"After writing:\")\n",
        "print(data)\n",
        "fhr.close()\n"
      ],
      "metadata": {
        "colab": {
          "base_uri": "https://localhost:8080/"
        },
        "id": "om-e5YC51zSA",
        "outputId": "4231175b-44c6-4bf1-fac6-9cbb5879be07"
      },
      "execution_count": 67,
      "outputs": [
        {
          "output_type": "stream",
          "name": "stdout",
          "text": [
            "Before writing:\n",
            "this new first line written\n",
            "this new second line written\n",
            "\n",
            "num: 28\n",
            "num1: 29\n",
            "After writing:\n",
            "this new first line written\n",
            "this new second line written\n",
            "this new first line written\n",
            "this new second line written\n",
            "\n"
          ]
        }
      ]
    },
    {
      "cell_type": "code",
      "source": [
        "fhr=open(\"data.txt\",\"r\")\n",
        "cur_pos=fhr.tell()\n",
        "print(cur_pos)\n",
        "data =fhr.readline()\n",
        "print(data)\n",
        "cur_pos=fhr.tell()\n",
        "print(cur_pos)\n",
        "data =fhr.readline()\n",
        "print(data)\n",
        "fhr.close()\n"
      ],
      "metadata": {
        "colab": {
          "base_uri": "https://localhost:8080/"
        },
        "id": "E-luzF7A10uv",
        "outputId": "6b2009e2-dd5d-4ed8-8d81-e654cd9424e0"
      },
      "execution_count": 68,
      "outputs": [
        {
          "output_type": "stream",
          "name": "stdout",
          "text": [
            "0\n",
            "this new first line written\n",
            "\n",
            "28\n",
            "this new second line written\n",
            "\n"
          ]
        }
      ]
    },
    {
      "cell_type": "code",
      "source": [
        "fhr=open(\"data.txt\",\"rb+\")\n",
        "print(fhr.tell())\n",
        "fhr.seek(12) #navigates to 12th position from beginning of the file\n",
        "print(fhr.tell())\n",
        "fhr.seek(3,1) #navigates to 3rd position from current position of the file object position\n",
        "print(fhr.tell())\n",
        "fhr.seek(-3,2)#navigates to 3rd position from end of the file in backward direction\n",
        "print(fhr.tell())\n",
        "fhr.close()\n"
      ],
      "metadata": {
        "colab": {
          "base_uri": "https://localhost:8080/"
        },
        "id": "dR5Sv64F2DIS",
        "outputId": "e1b583b1-81f5-49a8-845f-85e26c9505ea"
      },
      "execution_count": 69,
      "outputs": [
        {
          "output_type": "stream",
          "name": "stdout",
          "text": [
            "0\n",
            "12\n",
            "15\n",
            "111\n"
          ]
        }
      ]
    },
    {
      "cell_type": "code",
      "source": [
        "fhr=open(\"data.txt\",\"rb+\")\n",
        "print(\"file name:\",fhr.name)\n",
        "print(\"access mode:\",fhr.mode)\n",
        "print(\"closed?\",fhr.closed)\n",
        "fhr.close()\n",
        "print(\"after closing the file closed?\",fhr.closed)\n"
      ],
      "metadata": {
        "colab": {
          "base_uri": "https://localhost:8080/"
        },
        "id": "j7onhsRM2KtW",
        "outputId": "718da30b-c9ba-4886-a183-b0e5f5289d9e"
      },
      "execution_count": 70,
      "outputs": [
        {
          "output_type": "stream",
          "name": "stdout",
          "text": [
            "file name: data.txt\n",
            "access mode: rb+\n",
            "closed? False\n",
            "after closing the file closed? True\n"
          ]
        }
      ]
    },
    {
      "cell_type": "code",
      "source": [
        "def calculate_expenditure(list_of_expenditure):\n",
        "    total=0\n",
        "    for expenditure in list_of_expenditure:\n",
        "        total+=expenditure\n",
        "    print(total)\n",
        "list_of_values=[100,200,300,\"400\",500]\n",
        "calculate_expenditure(list_of_values)\n"
      ],
      "metadata": {
        "colab": {
          "base_uri": "https://localhost:8080/",
          "height": 309
        },
        "id": "B0S_ljJR3bVm",
        "outputId": "f933fb08-3cc4-414b-f6de-4367982562a4"
      },
      "execution_count": 71,
      "outputs": [
        {
          "output_type": "error",
          "ename": "TypeError",
          "evalue": "unsupported operand type(s) for +=: 'int' and 'str'",
          "traceback": [
            "\u001b[0;31m---------------------------------------------------------------------------\u001b[0m",
            "\u001b[0;31mTypeError\u001b[0m                                 Traceback (most recent call last)",
            "\u001b[0;32m<ipython-input-71-9947f96ce8be>\u001b[0m in \u001b[0;36m<cell line: 0>\u001b[0;34m()\u001b[0m\n\u001b[1;32m      5\u001b[0m     \u001b[0mprint\u001b[0m\u001b[0;34m(\u001b[0m\u001b[0mtotal\u001b[0m\u001b[0;34m)\u001b[0m\u001b[0;34m\u001b[0m\u001b[0;34m\u001b[0m\u001b[0m\n\u001b[1;32m      6\u001b[0m \u001b[0mlist_of_values\u001b[0m\u001b[0;34m=\u001b[0m\u001b[0;34m[\u001b[0m\u001b[0;36m100\u001b[0m\u001b[0;34m,\u001b[0m\u001b[0;36m200\u001b[0m\u001b[0;34m,\u001b[0m\u001b[0;36m300\u001b[0m\u001b[0;34m,\u001b[0m\u001b[0;34m\"400\"\u001b[0m\u001b[0;34m,\u001b[0m\u001b[0;36m500\u001b[0m\u001b[0;34m]\u001b[0m\u001b[0;34m\u001b[0m\u001b[0;34m\u001b[0m\u001b[0m\n\u001b[0;32m----> 7\u001b[0;31m \u001b[0mcalculate_expenditure\u001b[0m\u001b[0;34m(\u001b[0m\u001b[0mlist_of_values\u001b[0m\u001b[0;34m)\u001b[0m\u001b[0;34m\u001b[0m\u001b[0;34m\u001b[0m\u001b[0m\n\u001b[0m",
            "\u001b[0;32m<ipython-input-71-9947f96ce8be>\u001b[0m in \u001b[0;36mcalculate_expenditure\u001b[0;34m(list_of_expenditure)\u001b[0m\n\u001b[1;32m      2\u001b[0m     \u001b[0mtotal\u001b[0m\u001b[0;34m=\u001b[0m\u001b[0;36m0\u001b[0m\u001b[0;34m\u001b[0m\u001b[0;34m\u001b[0m\u001b[0m\n\u001b[1;32m      3\u001b[0m     \u001b[0;32mfor\u001b[0m \u001b[0mexpenditure\u001b[0m \u001b[0;32min\u001b[0m \u001b[0mlist_of_expenditure\u001b[0m\u001b[0;34m:\u001b[0m\u001b[0;34m\u001b[0m\u001b[0;34m\u001b[0m\u001b[0m\n\u001b[0;32m----> 4\u001b[0;31m         \u001b[0mtotal\u001b[0m\u001b[0;34m+=\u001b[0m\u001b[0mexpenditure\u001b[0m\u001b[0;34m\u001b[0m\u001b[0;34m\u001b[0m\u001b[0m\n\u001b[0m\u001b[1;32m      5\u001b[0m     \u001b[0mprint\u001b[0m\u001b[0;34m(\u001b[0m\u001b[0mtotal\u001b[0m\u001b[0;34m)\u001b[0m\u001b[0;34m\u001b[0m\u001b[0;34m\u001b[0m\u001b[0m\n\u001b[1;32m      6\u001b[0m \u001b[0mlist_of_values\u001b[0m\u001b[0;34m=\u001b[0m\u001b[0;34m[\u001b[0m\u001b[0;36m100\u001b[0m\u001b[0;34m,\u001b[0m\u001b[0;36m200\u001b[0m\u001b[0;34m,\u001b[0m\u001b[0;36m300\u001b[0m\u001b[0;34m,\u001b[0m\u001b[0;34m\"400\"\u001b[0m\u001b[0;34m,\u001b[0m\u001b[0;36m500\u001b[0m\u001b[0;34m]\u001b[0m\u001b[0;34m\u001b[0m\u001b[0;34m\u001b[0m\u001b[0m\n",
            "\u001b[0;31mTypeError\u001b[0m: unsupported operand type(s) for +=: 'int' and 'str'"
          ]
        }
      ]
    },
    {
      "cell_type": "code",
      "source": [
        "def calculate_expenditure(list_of_expenditure):\n",
        "    total=0\n",
        "    for expenditure in list_of_expenditure:\n",
        "        if(type(expenditure) is int):\n",
        "            total+=expenditure\n",
        "        else:\n",
        "            print(\"Wrong data type\")\n",
        "            break\n",
        "    print(total)\n",
        "list_of_values=[100,200,300,\"400\",500]\n",
        "calculate_expenditure(list_of_values)\n"
      ],
      "metadata": {
        "colab": {
          "base_uri": "https://localhost:8080/"
        },
        "id": "BdcWpcUO3e7D",
        "outputId": "b24895b2-a625-4b97-a172-423fa4830c6e"
      },
      "execution_count": 72,
      "outputs": [
        {
          "output_type": "stream",
          "name": "stdout",
          "text": [
            "Wrong data type\n",
            "600\n"
          ]
        }
      ]
    },
    {
      "cell_type": "code",
      "source": [
        "def calculate_expenditure(list_of_expenditure):\n",
        "    total=0\n",
        "    try:\n",
        "        for expenditure in list_of_expenditure:\n",
        "            total+=expenditure\n",
        "        print(total)\n",
        "    except:\n",
        "        print(\"Some error occured\")\n",
        "    print(\"Returning back from function.\")\n",
        "list_of_values=[100,200,300,\"400\",500]\n",
        "calculate_expenditure(list_of_values)\n"
      ],
      "metadata": {
        "colab": {
          "base_uri": "https://localhost:8080/"
        },
        "id": "F4dYdEwY3nCk",
        "outputId": "10c6f8ab-2b0d-4296-c368-2c270734280f"
      },
      "execution_count": 73,
      "outputs": [
        {
          "output_type": "stream",
          "name": "stdout",
          "text": [
            "Some error occured\n",
            "Returning back from function.\n"
          ]
        }
      ]
    },
    {
      "cell_type": "code",
      "source": [
        "def calculate_expenditure(list_of_expenditure):\n",
        "    total=0\n",
        "    try:\n",
        "        for expenditure in list_of_expenditure:\n",
        "            total+=expenditure\n",
        "        print(\"Total:\",total)\n",
        "        avg=total/num_values\n",
        "        print(\"Average:\",avg)\n",
        "    except ZeroDivisionError:\n",
        "        print(\"Divide by Zero error\")\n",
        "    except TypeError:\n",
        "        print(\"Wrong data type\")\n",
        "    except:\n",
        "        print(\"Some error occured\")\n",
        "list_of_values=[100,200,300,\"400\",500]\n",
        "num_values=0\n",
        "calculate_expenditure(list_of_values)\n"
      ],
      "metadata": {
        "colab": {
          "base_uri": "https://localhost:8080/"
        },
        "id": "WFM0m5YP3thX",
        "outputId": "d7939406-1f11-4436-8fbf-29aa891a1719"
      },
      "execution_count": 74,
      "outputs": [
        {
          "output_type": "stream",
          "name": "stdout",
          "text": [
            "Wrong data type\n"
          ]
        }
      ]
    },
    {
      "cell_type": "code",
      "source": [
        "def calculate_sum(list_of_expenditure):\n",
        "    total=0\n",
        "    try:\n",
        "        for expenditure in list_of_expenditure:\n",
        "            total+=expenditure\n",
        "        print(\"Total:\",total)\n",
        "        avg=total/no_values\n",
        "        print(\"Average:\",avg)\n",
        "    except ZeroDivisionError:\n",
        "        print(\"Divide by Zero error\")\n",
        "    except TypeError:\n",
        "        print(\"Wrong data type\")\n",
        "try:\n",
        "    list_of_values=[100,200,300,400,500]\n",
        "    num_values=len(list_of_values)\n",
        "    calculate_sum(list_of_values)\n",
        "except NameError:\n",
        "    print(\"Name error occured\")\n",
        "except:\n",
        "    print(\"Some error occured\")\n",
        "\n",
        "\n"
      ],
      "metadata": {
        "colab": {
          "base_uri": "https://localhost:8080/"
        },
        "id": "esRcbiuc32KU",
        "outputId": "6c976109-3f62-490b-fad0-121f0067c828"
      },
      "execution_count": 75,
      "outputs": [
        {
          "output_type": "stream",
          "name": "stdout",
          "text": [
            "Total: 1500\n",
            "Name error occured\n"
          ]
        }
      ]
    },
    {
      "cell_type": "code",
      "source": [
        "balance=1000\n",
        "amount=\"300Rs\"\n",
        "def take_card():\n",
        "    print(\"Take the card out of ATM\")\n",
        "try:\n",
        "    if balance>=int(amount):\n",
        "        print(\"Withdraw\")\n",
        "    else:\n",
        "        print(\"Invalid amount\")\n",
        "except TypeError:\n",
        "    print(\"Type Error Occurred\")\n",
        "except ValueError:\n",
        "    print(\"Value Error Occurred\")\n",
        "except:\n",
        "    print(\"Some error Occurred\")\n",
        "finally:\n",
        "    take_card()\n"
      ],
      "metadata": {
        "colab": {
          "base_uri": "https://localhost:8080/"
        },
        "id": "Zwkx8ogs4ISh",
        "outputId": "a84ef955-cf96-409f-eb0e-00c4a83c2502"
      },
      "execution_count": 76,
      "outputs": [
        {
          "output_type": "stream",
          "name": "stdout",
          "text": [
            "Value Error Occurred\n",
            "Take the card out of ATM\n"
          ]
        }
      ]
    },
    {
      "cell_type": "markdown",
      "source": [
        "Given a list of numbers, write a Python function to return the list of prime numbers present in it.\n",
        "\n",
        "Example: input:[7,9,11,13,15,20,23] output:[7,11,13,23]\n",
        "\n",
        "Write a python function find_common_characters(msg1,msg2) to display all the common characters between given two strings. Return -1 if there are no matching characters.\n",
        "\n",
        "Note: Ignore blank spaces if there are any. Perform case sensitive string comparison wherever necessary.\n",
        "\n",
        "Example: msg1=\"I like Python\", msg2=\"Java is a very popular language\" output=lieyon\n",
        "\n",
        "Write a python function, find_pairs_of_numbers(num_list,n) which accepts a list of positive integers with no repetitions and returns count of pairs of numbers in the list that adds up to n. The function should return 0, if no such pairs are found in the list.\n",
        "\n",
        "Example: num_list=[1, 2, 7, 4, 5, 6, 0, 3], n=6 output:3\n",
        "\n",
        "              num_list= [3, 4, 1, 8, 5, 9, 0, 6], n=9 output:4\n",
        "\n",
        "The python function, find_average() given below, is written to accept a list of marks and return the average marks. On execution, the program is resulting in an error.\n",
        "\n",
        "def find_average(mark_list):\n",
        "          total=0\n",
        "          for i in range(0, len(mark_list)):\n",
        "                   total+=mark_list1[i]\n",
        "          marks_avg=total/len(mark_list)\n",
        "          return marks_avg\n",
        "m_list=[1,2,3,4]\n",
        "print(\"Average marks:\", find_average(m_list))\n",
        "1: Add code to handle the exception occurring in the code.\n",
        "\n",
        "2: Make the necessary correction in the program to remove the error.\n",
        "\n",
        "3: Make the following changes in the code, execute, observe the results. Add code to handle the errors occurring in each case.\n",
        "\n",
        "Case – 1: Initialize m_list as [\"1\",2,3,4]\n",
        "\n",
        "Case – 2: Initialize m_list as given below\n",
        "\n",
        "mark1=\"A\"\n",
        "mark1=int(\"A\")\n",
        "m_list=[mark1,2,3,4]\n",
        "Case – 3: Initialize m_list as []\n",
        "\n",
        "Case – 4: Make the following change in the for loop statement\n",
        "\n",
        "for i in range(0, len(mark_list)+1):"
      ],
      "metadata": {
        "id": "oUI2M-L24RrZ"
      }
    },
    {
      "cell_type": "code",
      "source": [
        "def is_prime(n):\n",
        "    if n <= 1:\n",
        "        return False\n",
        "    for i in range(2, int(n**0.5)+1):\n",
        "        if n % i == 0:\n",
        "            return False\n",
        "    return True\n",
        "\n",
        "def get_prime_numbers(lst):\n",
        "    return [num for num in lst if is_prime(num)]\n",
        "\n",
        "# Example\n",
        "print(get_prime_numbers([7, 9, 11, 13, 15, 20, 23]))  # Output: [7, 11, 13, 23]\n"
      ],
      "metadata": {
        "colab": {
          "base_uri": "https://localhost:8080/"
        },
        "id": "zLaV6LB84TAR",
        "outputId": "c3584d46-c0e6-4e64-9315-f6cef927af27"
      },
      "execution_count": 77,
      "outputs": [
        {
          "output_type": "stream",
          "name": "stdout",
          "text": [
            "[7, 11, 13, 23]\n"
          ]
        }
      ]
    },
    {
      "cell_type": "code",
      "source": [
        "def find_common_characters(msg1, msg2):\n",
        "    set1 = set(msg1.replace(\" \", \"\"))\n",
        "    set2 = set(msg2.replace(\" \", \"\"))\n",
        "    common = set1 & set2\n",
        "    if not common:\n",
        "        return -1\n",
        "    return ''.join(sorted(common))\n",
        "\n",
        "# Example\n",
        "print(find_common_characters(\"I like Python\", \"Java is a very popular language\"))  # Output: lieyon\n"
      ],
      "metadata": {
        "colab": {
          "base_uri": "https://localhost:8080/"
        },
        "id": "6BG2gLrF4cAp",
        "outputId": "c551affe-b1b1-4d79-945b-f0cafa8e6ba0"
      },
      "execution_count": 78,
      "outputs": [
        {
          "output_type": "stream",
          "name": "stdout",
          "text": [
            "eilnoy\n"
          ]
        }
      ]
    },
    {
      "cell_type": "code",
      "source": [
        "def find_pairs_of_numbers(num_list, n):\n",
        "    count = 0\n",
        "    seen = set()\n",
        "    for num in num_list:\n",
        "        if n - num in seen:\n",
        "            count += 1\n",
        "        seen.add(num)\n",
        "    return count\n",
        "\n",
        "# Example\n",
        "print(find_pairs_of_numbers([1, 2, 7, 4, 5, 6, 0, 3], 6))  # Output: 3\n",
        "print(find_pairs_of_numbers([3, 4, 1, 8, 5, 9, 0, 6], 9))  # Output: 4\n"
      ],
      "metadata": {
        "id": "fdFDwl-n4d3D"
      },
      "execution_count": null,
      "outputs": []
    },
    {
      "cell_type": "code",
      "source": [
        "def find_average(mark_list):\n",
        "    total=0\n",
        "    for i in range(0, len(mark_list)):\n",
        "        total+=mark_list1[i]  # ❌ mark_list1 is undefined\n",
        "    marks_avg=total/len(mark_list)\n",
        "    return marks_avg\n"
      ],
      "metadata": {
        "id": "arQRRPzG4f0d"
      },
      "execution_count": 80,
      "outputs": []
    },
    {
      "cell_type": "code",
      "source": [
        "\n",
        "num1=100\n",
        "num2=0\n",
        "try:\n",
        "    result=num1/num2\n",
        "    print(result)\n",
        "except ZeroDivisionError:\n",
        "    print(\"Zero Division Error Occurred\")"
      ],
      "metadata": {
        "colab": {
          "base_uri": "https://localhost:8080/"
        },
        "id": "NfHkUf9U4jve",
        "outputId": "631327d9-5272-4fcc-982f-a6cf70ecffe0"
      },
      "execution_count": 82,
      "outputs": [
        {
          "output_type": "stream",
          "name": "stdout",
          "text": [
            "Zero Division Error Occurred\n"
          ]
        }
      ]
    },
    {
      "cell_type": "code",
      "source": [
        "def division(a,b):\n",
        "    try:\n",
        "        return int(a)/b\n",
        "    except TypeError:\n",
        "        print(\"Type error\")\n",
        "    except ValueError:\n",
        "        print(\"Value error\")\n",
        "    finally:\n",
        "        print(\"Finally\")\n",
        "    print(\"Done\")\n",
        "division('A',10)"
      ],
      "metadata": {
        "colab": {
          "base_uri": "https://localhost:8080/"
        },
        "id": "uaVl_IMg4uv6",
        "outputId": "dc6d491f-a61f-4685-f0e7-bd529937277e"
      },
      "execution_count": 83,
      "outputs": [
        {
          "output_type": "stream",
          "name": "stdout",
          "text": [
            "Value error\n",
            "Finally\n",
            "Done\n"
          ]
        }
      ]
    },
    {
      "cell_type": "code",
      "source": [
        "def find_sum(a,b):\n",
        "    try:\n",
        "        print(a+c)\n",
        "    except NameError:\n",
        "        print(\"Function name error\")\n",
        "    finally:\n",
        "        print(\"Sum finally\")\n",
        "try:\n",
        "    find_sum(12,13)\n",
        "except NameError:\n",
        "    print(\"Invocation name error\")\n",
        "finally:\n",
        "    print(\"Invocation finally\")\n"
      ],
      "metadata": {
        "colab": {
          "base_uri": "https://localhost:8080/"
        },
        "id": "ugwaa44A4pWB",
        "outputId": "60847a1a-02fa-43a5-93fd-53f7597ac2bd"
      },
      "execution_count": 84,
      "outputs": [
        {
          "output_type": "stream",
          "name": "stdout",
          "text": [
            "Function name error\n",
            "Sum finally\n",
            "Invocation finally\n"
          ]
        }
      ]
    }
  ]
}